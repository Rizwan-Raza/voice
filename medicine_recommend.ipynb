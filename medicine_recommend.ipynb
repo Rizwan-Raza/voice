{
  "metadata": {
    "kernelspec": {
      "language": "python",
      "display_name": "Python 3",
      "name": "python3"
    },
    "language_info": {
      "name": "python",
      "version": "3.7.12",
      "mimetype": "text/x-python",
      "codemirror_mode": {
        "name": "ipython",
        "version": 3
      },
      "pygments_lexer": "ipython3",
      "nbconvert_exporter": "python",
      "file_extension": ".py"
    },
    "colab": {
      "provenance": [],
      "include_colab_link": true
    }
  },
  "nbformat_minor": 0,
  "nbformat": 4,
  "cells": [
    {
      "cell_type": "markdown",
      "metadata": {
        "id": "view-in-github",
        "colab_type": "text"
      },
      "source": [
        "<a href=\"https://colab.research.google.com/github/Rizwan-Raza/voice/blob/master/medicine_recommend.ipynb\" target=\"_parent\"><img src=\"https://colab.research.google.com/assets/colab-badge.svg\" alt=\"Open In Colab\"/></a>"
      ]
    },
    {
      "cell_type": "code",
      "source": [
        "# This Python 3 environment comes with many helpful analytics libraries installed\n",
        "# It is defined by the kaggle/python Docker image: https://github.com/kaggle/docker-python\n",
        "# For example, here's several helpful packages to load\n",
        "\n",
        "import numpy as np # linear algebra\n",
        "import pandas as pd # data processing, CSV file I/O (e.g. pd.read_csv)\n",
        "\n",
        "# Input data files are available in the read-only \"../input/\" directory\n",
        "# For example, running this (by clicking run or pressing Shift+Enter) will list all files under the input directory"
      ],
      "metadata": {
        "_uuid": "8f2839f25d086af736a60e9eeb907d3b93b6e0e5",
        "_cell_guid": "b1076dfc-b9ad-4769-8c92-a6c4dae69d19",
        "execution": {
          "iopub.status.busy": "2022-05-26T15:21:29.887162Z",
          "iopub.execute_input": "2022-05-26T15:21:29.887653Z",
          "iopub.status.idle": "2022-05-26T15:21:29.923894Z",
          "shell.execute_reply.started": "2022-05-26T15:21:29.887562Z",
          "shell.execute_reply": "2022-05-26T15:21:29.923084Z"
        },
        "trusted": true,
        "id": "669VK2rE4JWW"
      },
      "execution_count": 37,
      "outputs": []
    },
    {
      "cell_type": "code",
      "source": [
        "medicines = pd.read_csv('data/medicine.csv')"
      ],
      "metadata": {
        "execution": {
          "iopub.status.busy": "2022-05-26T15:22:10.369768Z",
          "iopub.execute_input": "2022-05-26T15:22:10.370195Z",
          "iopub.status.idle": "2022-05-26T15:22:10.423042Z",
          "shell.execute_reply.started": "2022-05-26T15:22:10.370167Z",
          "shell.execute_reply": "2022-05-26T15:22:10.422102Z"
        },
        "trusted": true,
        "id": "jdBoueKD4JWd"
      },
      "execution_count": 38,
      "outputs": []
    },
    {
      "cell_type": "code",
      "source": [
        "medicines.head()"
      ],
      "metadata": {
        "execution": {
          "iopub.status.busy": "2022-05-26T15:22:17.328665Z",
          "iopub.execute_input": "2022-05-26T15:22:17.329081Z",
          "iopub.status.idle": "2022-05-26T15:22:17.352018Z",
          "shell.execute_reply.started": "2022-05-26T15:22:17.329047Z",
          "shell.execute_reply": "2022-05-26T15:22:17.350989Z"
        },
        "trusted": true,
        "colab": {
          "base_uri": "https://localhost:8080/",
          "height": 206
        },
        "id": "TgCzOH514JWe",
        "outputId": "40c82393-9652-41ac-d746-6c3669445859"
      },
      "execution_count": 39,
      "outputs": [
        {
          "output_type": "execute_result",
          "data": {
            "text/plain": [
              "   index                                          Drug_Name Reason  \\\n",
              "0      1               A CN Gel(Topical) 20gmA CN Soap 75gm   Acne   \n",
              "1      2  A Ret 0.05% Gel 20gmA Ret 0.1% Gel 20gmA Ret 0...   Acne   \n",
              "2      3                             ACGEL CL NANO Gel 15gm   Acne   \n",
              "3      4                                ACGEL NANO Gel 15gm   Acne   \n",
              "4      5                              Acleen 1% Lotion 25ml   Acne   \n",
              "\n",
              "                                         Description  \n",
              "0                      Mild to moderate acne (spots)  \n",
              "1  A RET 0.025% is a prescription medicine that i...  \n",
              "2  It is used to treat acne vulgaris in people 12...  \n",
              "3  It is used to treat acne vulgaris in people 12...  \n",
              "4  treat the most severe form of acne (nodular ac...  "
            ],
            "text/html": [
              "\n",
              "  <div id=\"df-23ceaedf-4a25-4b74-9c2c-2c64a63edc45\">\n",
              "    <div class=\"colab-df-container\">\n",
              "      <div>\n",
              "<style scoped>\n",
              "    .dataframe tbody tr th:only-of-type {\n",
              "        vertical-align: middle;\n",
              "    }\n",
              "\n",
              "    .dataframe tbody tr th {\n",
              "        vertical-align: top;\n",
              "    }\n",
              "\n",
              "    .dataframe thead th {\n",
              "        text-align: right;\n",
              "    }\n",
              "</style>\n",
              "<table border=\"1\" class=\"dataframe\">\n",
              "  <thead>\n",
              "    <tr style=\"text-align: right;\">\n",
              "      <th></th>\n",
              "      <th>index</th>\n",
              "      <th>Drug_Name</th>\n",
              "      <th>Reason</th>\n",
              "      <th>Description</th>\n",
              "    </tr>\n",
              "  </thead>\n",
              "  <tbody>\n",
              "    <tr>\n",
              "      <th>0</th>\n",
              "      <td>1</td>\n",
              "      <td>A CN Gel(Topical) 20gmA CN Soap 75gm</td>\n",
              "      <td>Acne</td>\n",
              "      <td>Mild to moderate acne (spots)</td>\n",
              "    </tr>\n",
              "    <tr>\n",
              "      <th>1</th>\n",
              "      <td>2</td>\n",
              "      <td>A Ret 0.05% Gel 20gmA Ret 0.1% Gel 20gmA Ret 0...</td>\n",
              "      <td>Acne</td>\n",
              "      <td>A RET 0.025% is a prescription medicine that i...</td>\n",
              "    </tr>\n",
              "    <tr>\n",
              "      <th>2</th>\n",
              "      <td>3</td>\n",
              "      <td>ACGEL CL NANO Gel 15gm</td>\n",
              "      <td>Acne</td>\n",
              "      <td>It is used to treat acne vulgaris in people 12...</td>\n",
              "    </tr>\n",
              "    <tr>\n",
              "      <th>3</th>\n",
              "      <td>4</td>\n",
              "      <td>ACGEL NANO Gel 15gm</td>\n",
              "      <td>Acne</td>\n",
              "      <td>It is used to treat acne vulgaris in people 12...</td>\n",
              "    </tr>\n",
              "    <tr>\n",
              "      <th>4</th>\n",
              "      <td>5</td>\n",
              "      <td>Acleen 1% Lotion 25ml</td>\n",
              "      <td>Acne</td>\n",
              "      <td>treat the most severe form of acne (nodular ac...</td>\n",
              "    </tr>\n",
              "  </tbody>\n",
              "</table>\n",
              "</div>\n",
              "      <button class=\"colab-df-convert\" onclick=\"convertToInteractive('df-23ceaedf-4a25-4b74-9c2c-2c64a63edc45')\"\n",
              "              title=\"Convert this dataframe to an interactive table.\"\n",
              "              style=\"display:none;\">\n",
              "        \n",
              "  <svg xmlns=\"http://www.w3.org/2000/svg\" height=\"24px\"viewBox=\"0 0 24 24\"\n",
              "       width=\"24px\">\n",
              "    <path d=\"M0 0h24v24H0V0z\" fill=\"none\"/>\n",
              "    <path d=\"M18.56 5.44l.94 2.06.94-2.06 2.06-.94-2.06-.94-.94-2.06-.94 2.06-2.06.94zm-11 1L8.5 8.5l.94-2.06 2.06-.94-2.06-.94L8.5 2.5l-.94 2.06-2.06.94zm10 10l.94 2.06.94-2.06 2.06-.94-2.06-.94-.94-2.06-.94 2.06-2.06.94z\"/><path d=\"M17.41 7.96l-1.37-1.37c-.4-.4-.92-.59-1.43-.59-.52 0-1.04.2-1.43.59L10.3 9.45l-7.72 7.72c-.78.78-.78 2.05 0 2.83L4 21.41c.39.39.9.59 1.41.59.51 0 1.02-.2 1.41-.59l7.78-7.78 2.81-2.81c.8-.78.8-2.07 0-2.86zM5.41 20L4 18.59l7.72-7.72 1.47 1.35L5.41 20z\"/>\n",
              "  </svg>\n",
              "      </button>\n",
              "      \n",
              "  <style>\n",
              "    .colab-df-container {\n",
              "      display:flex;\n",
              "      flex-wrap:wrap;\n",
              "      gap: 12px;\n",
              "    }\n",
              "\n",
              "    .colab-df-convert {\n",
              "      background-color: #E8F0FE;\n",
              "      border: none;\n",
              "      border-radius: 50%;\n",
              "      cursor: pointer;\n",
              "      display: none;\n",
              "      fill: #1967D2;\n",
              "      height: 32px;\n",
              "      padding: 0 0 0 0;\n",
              "      width: 32px;\n",
              "    }\n",
              "\n",
              "    .colab-df-convert:hover {\n",
              "      background-color: #E2EBFA;\n",
              "      box-shadow: 0px 1px 2px rgba(60, 64, 67, 0.3), 0px 1px 3px 1px rgba(60, 64, 67, 0.15);\n",
              "      fill: #174EA6;\n",
              "    }\n",
              "\n",
              "    [theme=dark] .colab-df-convert {\n",
              "      background-color: #3B4455;\n",
              "      fill: #D2E3FC;\n",
              "    }\n",
              "\n",
              "    [theme=dark] .colab-df-convert:hover {\n",
              "      background-color: #434B5C;\n",
              "      box-shadow: 0px 1px 3px 1px rgba(0, 0, 0, 0.15);\n",
              "      filter: drop-shadow(0px 1px 2px rgba(0, 0, 0, 0.3));\n",
              "      fill: #FFFFFF;\n",
              "    }\n",
              "  </style>\n",
              "\n",
              "      <script>\n",
              "        const buttonEl =\n",
              "          document.querySelector('#df-23ceaedf-4a25-4b74-9c2c-2c64a63edc45 button.colab-df-convert');\n",
              "        buttonEl.style.display =\n",
              "          google.colab.kernel.accessAllowed ? 'block' : 'none';\n",
              "\n",
              "        async function convertToInteractive(key) {\n",
              "          const element = document.querySelector('#df-23ceaedf-4a25-4b74-9c2c-2c64a63edc45');\n",
              "          const dataTable =\n",
              "            await google.colab.kernel.invokeFunction('convertToInteractive',\n",
              "                                                     [key], {});\n",
              "          if (!dataTable) return;\n",
              "\n",
              "          const docLinkHtml = 'Like what you see? Visit the ' +\n",
              "            '<a target=\"_blank\" href=https://colab.research.google.com/notebooks/data_table.ipynb>data table notebook</a>'\n",
              "            + ' to learn more about interactive tables.';\n",
              "          element.innerHTML = '';\n",
              "          dataTable['output_type'] = 'display_data';\n",
              "          await google.colab.output.renderOutput(dataTable, element);\n",
              "          const docLink = document.createElement('div');\n",
              "          docLink.innerHTML = docLinkHtml;\n",
              "          element.appendChild(docLink);\n",
              "        }\n",
              "      </script>\n",
              "    </div>\n",
              "  </div>\n",
              "  "
            ]
          },
          "metadata": {},
          "execution_count": 39
        }
      ]
    },
    {
      "cell_type": "code",
      "source": [
        "medicines.shape"
      ],
      "metadata": {
        "execution": {
          "iopub.status.busy": "2022-05-26T15:22:24.309304Z",
          "iopub.execute_input": "2022-05-26T15:22:24.310198Z",
          "iopub.status.idle": "2022-05-26T15:22:24.316390Z",
          "shell.execute_reply.started": "2022-05-26T15:22:24.310152Z",
          "shell.execute_reply": "2022-05-26T15:22:24.315341Z"
        },
        "trusted": true,
        "colab": {
          "base_uri": "https://localhost:8080/"
        },
        "id": "oWzf75qd4JWf",
        "outputId": "702576f8-9574-4611-c91d-301b71c96485"
      },
      "execution_count": 40,
      "outputs": [
        {
          "output_type": "execute_result",
          "data": {
            "text/plain": [
              "(9720, 4)"
            ]
          },
          "metadata": {},
          "execution_count": 40
        }
      ]
    },
    {
      "cell_type": "code",
      "source": [
        "medicines.isnull().sum()"
      ],
      "metadata": {
        "execution": {
          "iopub.status.busy": "2022-05-26T15:22:30.316922Z",
          "iopub.execute_input": "2022-05-26T15:22:30.317290Z",
          "iopub.status.idle": "2022-05-26T15:22:30.330892Z",
          "shell.execute_reply.started": "2022-05-26T15:22:30.317261Z",
          "shell.execute_reply": "2022-05-26T15:22:30.329902Z"
        },
        "trusted": true,
        "colab": {
          "base_uri": "https://localhost:8080/"
        },
        "id": "L2150Hx14JWf",
        "outputId": "5c56a584-c15f-4d15-e3db-707b1282eebb"
      },
      "execution_count": 41,
      "outputs": [
        {
          "output_type": "execute_result",
          "data": {
            "text/plain": [
              "index          0\n",
              "Drug_Name      0\n",
              "Reason         0\n",
              "Description    0\n",
              "dtype: int64"
            ]
          },
          "metadata": {},
          "execution_count": 41
        }
      ]
    },
    {
      "cell_type": "code",
      "source": [
        "medicines.dropna(inplace=True)"
      ],
      "metadata": {
        "execution": {
          "iopub.status.busy": "2022-05-26T15:22:36.541469Z",
          "iopub.execute_input": "2022-05-26T15:22:36.541860Z",
          "iopub.status.idle": "2022-05-26T15:22:36.558756Z",
          "shell.execute_reply.started": "2022-05-26T15:22:36.541830Z",
          "shell.execute_reply": "2022-05-26T15:22:36.557372Z"
        },
        "trusted": true,
        "id": "0tI025xO4JWg"
      },
      "execution_count": 42,
      "outputs": []
    },
    {
      "cell_type": "code",
      "source": [
        "medicines.duplicated().sum()"
      ],
      "metadata": {
        "execution": {
          "iopub.status.busy": "2022-05-26T15:27:45.781384Z",
          "iopub.execute_input": "2022-05-26T15:27:45.781805Z",
          "iopub.status.idle": "2022-05-26T15:27:45.801395Z",
          "shell.execute_reply.started": "2022-05-26T15:27:45.781772Z",
          "shell.execute_reply": "2022-05-26T15:27:45.800506Z"
        },
        "trusted": true,
        "colab": {
          "base_uri": "https://localhost:8080/"
        },
        "id": "U2FwTbLy4JWh",
        "outputId": "ae98c955-d013-46dd-c7b1-3c83d69684b3"
      },
      "execution_count": 43,
      "outputs": [
        {
          "output_type": "execute_result",
          "data": {
            "text/plain": [
              "0"
            ]
          },
          "metadata": {},
          "execution_count": 43
        }
      ]
    },
    {
      "cell_type": "code",
      "source": [
        "medicines['Description']"
      ],
      "metadata": {
        "execution": {
          "iopub.status.busy": "2022-05-26T15:27:52.263107Z",
          "iopub.execute_input": "2022-05-26T15:27:52.263507Z",
          "iopub.status.idle": "2022-05-26T15:27:52.271658Z",
          "shell.execute_reply.started": "2022-05-26T15:27:52.263462Z",
          "shell.execute_reply": "2022-05-26T15:27:52.270787Z"
        },
        "trusted": true,
        "colab": {
          "base_uri": "https://localhost:8080/"
        },
        "id": "SJdd3zlv4JWi",
        "outputId": "ad9c8807-566a-4e3b-e992-420f0d7081f7"
      },
      "execution_count": 44,
      "outputs": [
        {
          "output_type": "execute_result",
          "data": {
            "text/plain": [
              "0                           Mild to moderate acne (spots)\n",
              "1       A RET 0.025% is a prescription medicine that i...\n",
              "2       It is used to treat acne vulgaris in people 12...\n",
              "3       It is used to treat acne vulgaris in people 12...\n",
              "4       treat the most severe form of acne (nodular ac...\n",
              "                              ...                        \n",
              "9715                              used for treating warts\n",
              "9716                        used to soften the skin cells\n",
              "9717                                       used for scars\n",
              "9718                                      used for wounds\n",
              "9719    used to treat and remove raised warts (usually...\n",
              "Name: Description, Length: 9720, dtype: object"
            ]
          },
          "metadata": {},
          "execution_count": 44
        }
      ]
    },
    {
      "cell_type": "code",
      "source": [
        "medicines['Description'].apply(lambda x:x.split())"
      ],
      "metadata": {
        "execution": {
          "iopub.status.busy": "2022-05-26T15:27:59.453961Z",
          "iopub.execute_input": "2022-05-26T15:27:59.454448Z",
          "iopub.status.idle": "2022-05-26T15:27:59.484759Z",
          "shell.execute_reply.started": "2022-05-26T15:27:59.454413Z",
          "shell.execute_reply": "2022-05-26T15:27:59.483653Z"
        },
        "trusted": true,
        "colab": {
          "base_uri": "https://localhost:8080/"
        },
        "id": "8taPcQkg4JWi",
        "outputId": "d63bac1b-4c14-4c42-9a47-3fe6e54455fb"
      },
      "execution_count": 45,
      "outputs": [
        {
          "output_type": "execute_result",
          "data": {
            "text/plain": [
              "0                     [Mild, to, moderate, acne, (spots)]\n",
              "1       [A, RET, 0.025%, is, a, prescription, medicine...\n",
              "2       [It, is, used, to, treat, acne, vulgaris, in, ...\n",
              "3       [It, is, used, to, treat, acne, vulgaris, in, ...\n",
              "4       [treat, the, most, severe, form, of, acne, (no...\n",
              "                              ...                        \n",
              "9715                         [used, for, treating, warts]\n",
              "9716                 [used, to, soften, the, skin, cells]\n",
              "9717                                   [used, for, scars]\n",
              "9718                                  [used, for, wounds]\n",
              "9719    [used, to, treat, and, remove, raised, warts, ...\n",
              "Name: Description, Length: 9720, dtype: object"
            ]
          },
          "metadata": {},
          "execution_count": 45
        }
      ]
    },
    {
      "cell_type": "code",
      "source": [
        "medicines['Reason'] = medicines['Reason'].apply(lambda x:x.split())\n",
        "medicines['Description'] = medicines['Description'].apply(lambda x:x.split())"
      ],
      "metadata": {
        "execution": {
          "iopub.status.busy": "2022-05-26T15:28:05.937209Z",
          "iopub.execute_input": "2022-05-26T15:28:05.937681Z",
          "iopub.status.idle": "2022-05-26T15:28:05.968340Z",
          "shell.execute_reply.started": "2022-05-26T15:28:05.937648Z",
          "shell.execute_reply": "2022-05-26T15:28:05.967586Z"
        },
        "trusted": true,
        "id": "l8raa4Ne4JWj"
      },
      "execution_count": 46,
      "outputs": []
    },
    {
      "cell_type": "code",
      "source": [
        "medicines['Description'] = medicines['Description'].apply(lambda x:[i.replace(\" \",\"\") for i in x])"
      ],
      "metadata": {
        "execution": {
          "iopub.status.busy": "2022-05-26T15:28:11.781739Z",
          "iopub.execute_input": "2022-05-26T15:28:11.782091Z",
          "iopub.status.idle": "2022-05-26T15:28:11.919044Z",
          "shell.execute_reply.started": "2022-05-26T15:28:11.782064Z",
          "shell.execute_reply": "2022-05-26T15:28:11.918271Z"
        },
        "trusted": true,
        "id": "mn-XuF7O4JWk"
      },
      "execution_count": 47,
      "outputs": []
    },
    {
      "cell_type": "code",
      "source": [
        "medicines['Description'] = medicines['Description'].apply(lambda x:[i.replace(\" \",\"\") for i in x])"
      ],
      "metadata": {
        "execution": {
          "iopub.status.busy": "2022-05-26T15:28:17.590328Z",
          "iopub.execute_input": "2022-05-26T15:28:17.590729Z",
          "iopub.status.idle": "2022-05-26T15:28:17.626568Z",
          "shell.execute_reply.started": "2022-05-26T15:28:17.590696Z",
          "shell.execute_reply": "2022-05-26T15:28:17.625869Z"
        },
        "trusted": true,
        "id": "irpyQ7UN4JWk"
      },
      "execution_count": 48,
      "outputs": []
    },
    {
      "cell_type": "code",
      "source": [
        "medicines['tags'] = medicines['Description'] + medicines['Reason'] "
      ],
      "metadata": {
        "execution": {
          "iopub.status.busy": "2022-05-26T15:28:23.479888Z",
          "iopub.execute_input": "2022-05-26T15:28:23.480397Z",
          "iopub.status.idle": "2022-05-26T15:28:23.492088Z",
          "shell.execute_reply.started": "2022-05-26T15:28:23.480365Z",
          "shell.execute_reply": "2022-05-26T15:28:23.491297Z"
        },
        "trusted": true,
        "id": "veiBKo6t4JWk"
      },
      "execution_count": 49,
      "outputs": []
    },
    {
      "cell_type": "code",
      "source": [
        "new_df = medicines[['index','Drug_Name','tags']]"
      ],
      "metadata": {
        "execution": {
          "iopub.status.busy": "2022-05-26T15:28:29.352375Z",
          "iopub.execute_input": "2022-05-26T15:28:29.352803Z",
          "iopub.status.idle": "2022-05-26T15:28:29.360610Z",
          "shell.execute_reply.started": "2022-05-26T15:28:29.352771Z",
          "shell.execute_reply": "2022-05-26T15:28:29.359860Z"
        },
        "trusted": true,
        "id": "wXK5ggQW4JWk"
      },
      "execution_count": 50,
      "outputs": []
    },
    {
      "cell_type": "code",
      "source": [
        "new_df"
      ],
      "metadata": {
        "execution": {
          "iopub.status.busy": "2022-05-26T15:28:34.877949Z",
          "iopub.execute_input": "2022-05-26T15:28:34.878349Z",
          "iopub.status.idle": "2022-05-26T15:28:34.895458Z",
          "shell.execute_reply.started": "2022-05-26T15:28:34.878317Z",
          "shell.execute_reply": "2022-05-26T15:28:34.894661Z"
        },
        "trusted": true,
        "colab": {
          "base_uri": "https://localhost:8080/",
          "height": 424
        },
        "id": "0hFGmH1y4JWl",
        "outputId": "d3d10e8e-e368-4aff-cab7-d4fce2baafff"
      },
      "execution_count": 51,
      "outputs": [
        {
          "output_type": "execute_result",
          "data": {
            "text/plain": [
              "      index                                          Drug_Name  \\\n",
              "0         1               A CN Gel(Topical) 20gmA CN Soap 75gm   \n",
              "1         2  A Ret 0.05% Gel 20gmA Ret 0.1% Gel 20gmA Ret 0...   \n",
              "2         3                             ACGEL CL NANO Gel 15gm   \n",
              "3         4                                ACGEL NANO Gel 15gm   \n",
              "4         5                              Acleen 1% Lotion 25ml   \n",
              "...     ...                                                ...   \n",
              "9715   9716                                T Muce Ointment 5gm   \n",
              "9716   9717  Wokadine 10% Solution 100mlWokadine Solution 5...   \n",
              "9717   9718                               Wokadine M Onit 10gm   \n",
              "9718   9719                           Wound Fix Solution 100ml   \n",
              "9719   9720                              Wounsol Ointment 15gm   \n",
              "\n",
              "                                                   tags  \n",
              "0             [Mild, to, moderate, acne, (spots), Acne]  \n",
              "1     [A, RET, 0.025%, is, a, prescription, medicine...  \n",
              "2     [It, is, used, to, treat, acne, vulgaris, in, ...  \n",
              "3     [It, is, used, to, treat, acne, vulgaris, in, ...  \n",
              "4     [treat, the, most, severe, form, of, acne, (no...  \n",
              "...                                                 ...  \n",
              "9715                [used, for, treating, warts, Wound]  \n",
              "9716        [used, to, soften, the, skin, cells, Wound]  \n",
              "9717                          [used, for, scars, Wound]  \n",
              "9718                         [used, for, wounds, Wound]  \n",
              "9719  [used, to, treat, and, remove, raised, warts, ...  \n",
              "\n",
              "[9720 rows x 3 columns]"
            ],
            "text/html": [
              "\n",
              "  <div id=\"df-064bd8f9-a7eb-458f-9eb4-a2a2a1a98f88\">\n",
              "    <div class=\"colab-df-container\">\n",
              "      <div>\n",
              "<style scoped>\n",
              "    .dataframe tbody tr th:only-of-type {\n",
              "        vertical-align: middle;\n",
              "    }\n",
              "\n",
              "    .dataframe tbody tr th {\n",
              "        vertical-align: top;\n",
              "    }\n",
              "\n",
              "    .dataframe thead th {\n",
              "        text-align: right;\n",
              "    }\n",
              "</style>\n",
              "<table border=\"1\" class=\"dataframe\">\n",
              "  <thead>\n",
              "    <tr style=\"text-align: right;\">\n",
              "      <th></th>\n",
              "      <th>index</th>\n",
              "      <th>Drug_Name</th>\n",
              "      <th>tags</th>\n",
              "    </tr>\n",
              "  </thead>\n",
              "  <tbody>\n",
              "    <tr>\n",
              "      <th>0</th>\n",
              "      <td>1</td>\n",
              "      <td>A CN Gel(Topical) 20gmA CN Soap 75gm</td>\n",
              "      <td>[Mild, to, moderate, acne, (spots), Acne]</td>\n",
              "    </tr>\n",
              "    <tr>\n",
              "      <th>1</th>\n",
              "      <td>2</td>\n",
              "      <td>A Ret 0.05% Gel 20gmA Ret 0.1% Gel 20gmA Ret 0...</td>\n",
              "      <td>[A, RET, 0.025%, is, a, prescription, medicine...</td>\n",
              "    </tr>\n",
              "    <tr>\n",
              "      <th>2</th>\n",
              "      <td>3</td>\n",
              "      <td>ACGEL CL NANO Gel 15gm</td>\n",
              "      <td>[It, is, used, to, treat, acne, vulgaris, in, ...</td>\n",
              "    </tr>\n",
              "    <tr>\n",
              "      <th>3</th>\n",
              "      <td>4</td>\n",
              "      <td>ACGEL NANO Gel 15gm</td>\n",
              "      <td>[It, is, used, to, treat, acne, vulgaris, in, ...</td>\n",
              "    </tr>\n",
              "    <tr>\n",
              "      <th>4</th>\n",
              "      <td>5</td>\n",
              "      <td>Acleen 1% Lotion 25ml</td>\n",
              "      <td>[treat, the, most, severe, form, of, acne, (no...</td>\n",
              "    </tr>\n",
              "    <tr>\n",
              "      <th>...</th>\n",
              "      <td>...</td>\n",
              "      <td>...</td>\n",
              "      <td>...</td>\n",
              "    </tr>\n",
              "    <tr>\n",
              "      <th>9715</th>\n",
              "      <td>9716</td>\n",
              "      <td>T Muce Ointment 5gm</td>\n",
              "      <td>[used, for, treating, warts, Wound]</td>\n",
              "    </tr>\n",
              "    <tr>\n",
              "      <th>9716</th>\n",
              "      <td>9717</td>\n",
              "      <td>Wokadine 10% Solution 100mlWokadine Solution 5...</td>\n",
              "      <td>[used, to, soften, the, skin, cells, Wound]</td>\n",
              "    </tr>\n",
              "    <tr>\n",
              "      <th>9717</th>\n",
              "      <td>9718</td>\n",
              "      <td>Wokadine M Onit 10gm</td>\n",
              "      <td>[used, for, scars, Wound]</td>\n",
              "    </tr>\n",
              "    <tr>\n",
              "      <th>9718</th>\n",
              "      <td>9719</td>\n",
              "      <td>Wound Fix Solution 100ml</td>\n",
              "      <td>[used, for, wounds, Wound]</td>\n",
              "    </tr>\n",
              "    <tr>\n",
              "      <th>9719</th>\n",
              "      <td>9720</td>\n",
              "      <td>Wounsol Ointment 15gm</td>\n",
              "      <td>[used, to, treat, and, remove, raised, warts, ...</td>\n",
              "    </tr>\n",
              "  </tbody>\n",
              "</table>\n",
              "<p>9720 rows × 3 columns</p>\n",
              "</div>\n",
              "      <button class=\"colab-df-convert\" onclick=\"convertToInteractive('df-064bd8f9-a7eb-458f-9eb4-a2a2a1a98f88')\"\n",
              "              title=\"Convert this dataframe to an interactive table.\"\n",
              "              style=\"display:none;\">\n",
              "        \n",
              "  <svg xmlns=\"http://www.w3.org/2000/svg\" height=\"24px\"viewBox=\"0 0 24 24\"\n",
              "       width=\"24px\">\n",
              "    <path d=\"M0 0h24v24H0V0z\" fill=\"none\"/>\n",
              "    <path d=\"M18.56 5.44l.94 2.06.94-2.06 2.06-.94-2.06-.94-.94-2.06-.94 2.06-2.06.94zm-11 1L8.5 8.5l.94-2.06 2.06-.94-2.06-.94L8.5 2.5l-.94 2.06-2.06.94zm10 10l.94 2.06.94-2.06 2.06-.94-2.06-.94-.94-2.06-.94 2.06-2.06.94z\"/><path d=\"M17.41 7.96l-1.37-1.37c-.4-.4-.92-.59-1.43-.59-.52 0-1.04.2-1.43.59L10.3 9.45l-7.72 7.72c-.78.78-.78 2.05 0 2.83L4 21.41c.39.39.9.59 1.41.59.51 0 1.02-.2 1.41-.59l7.78-7.78 2.81-2.81c.8-.78.8-2.07 0-2.86zM5.41 20L4 18.59l7.72-7.72 1.47 1.35L5.41 20z\"/>\n",
              "  </svg>\n",
              "      </button>\n",
              "      \n",
              "  <style>\n",
              "    .colab-df-container {\n",
              "      display:flex;\n",
              "      flex-wrap:wrap;\n",
              "      gap: 12px;\n",
              "    }\n",
              "\n",
              "    .colab-df-convert {\n",
              "      background-color: #E8F0FE;\n",
              "      border: none;\n",
              "      border-radius: 50%;\n",
              "      cursor: pointer;\n",
              "      display: none;\n",
              "      fill: #1967D2;\n",
              "      height: 32px;\n",
              "      padding: 0 0 0 0;\n",
              "      width: 32px;\n",
              "    }\n",
              "\n",
              "    .colab-df-convert:hover {\n",
              "      background-color: #E2EBFA;\n",
              "      box-shadow: 0px 1px 2px rgba(60, 64, 67, 0.3), 0px 1px 3px 1px rgba(60, 64, 67, 0.15);\n",
              "      fill: #174EA6;\n",
              "    }\n",
              "\n",
              "    [theme=dark] .colab-df-convert {\n",
              "      background-color: #3B4455;\n",
              "      fill: #D2E3FC;\n",
              "    }\n",
              "\n",
              "    [theme=dark] .colab-df-convert:hover {\n",
              "      background-color: #434B5C;\n",
              "      box-shadow: 0px 1px 3px 1px rgba(0, 0, 0, 0.15);\n",
              "      filter: drop-shadow(0px 1px 2px rgba(0, 0, 0, 0.3));\n",
              "      fill: #FFFFFF;\n",
              "    }\n",
              "  </style>\n",
              "\n",
              "      <script>\n",
              "        const buttonEl =\n",
              "          document.querySelector('#df-064bd8f9-a7eb-458f-9eb4-a2a2a1a98f88 button.colab-df-convert');\n",
              "        buttonEl.style.display =\n",
              "          google.colab.kernel.accessAllowed ? 'block' : 'none';\n",
              "\n",
              "        async function convertToInteractive(key) {\n",
              "          const element = document.querySelector('#df-064bd8f9-a7eb-458f-9eb4-a2a2a1a98f88');\n",
              "          const dataTable =\n",
              "            await google.colab.kernel.invokeFunction('convertToInteractive',\n",
              "                                                     [key], {});\n",
              "          if (!dataTable) return;\n",
              "\n",
              "          const docLinkHtml = 'Like what you see? Visit the ' +\n",
              "            '<a target=\"_blank\" href=https://colab.research.google.com/notebooks/data_table.ipynb>data table notebook</a>'\n",
              "            + ' to learn more about interactive tables.';\n",
              "          element.innerHTML = '';\n",
              "          dataTable['output_type'] = 'display_data';\n",
              "          await google.colab.output.renderOutput(dataTable, element);\n",
              "          const docLink = document.createElement('div');\n",
              "          docLink.innerHTML = docLinkHtml;\n",
              "          element.appendChild(docLink);\n",
              "        }\n",
              "      </script>\n",
              "    </div>\n",
              "  </div>\n",
              "  "
            ]
          },
          "metadata": {},
          "execution_count": 51
        }
      ]
    },
    {
      "cell_type": "code",
      "source": [
        "new_df['tags'].apply(lambda x:\" \".join(x))"
      ],
      "metadata": {
        "execution": {
          "iopub.status.busy": "2022-05-26T15:28:40.536242Z",
          "iopub.execute_input": "2022-05-26T15:28:40.536622Z",
          "iopub.status.idle": "2022-05-26T15:28:40.555686Z",
          "shell.execute_reply.started": "2022-05-26T15:28:40.536592Z",
          "shell.execute_reply": "2022-05-26T15:28:40.554737Z"
        },
        "trusted": true,
        "colab": {
          "base_uri": "https://localhost:8080/"
        },
        "id": "QK-YrJDU4JWl",
        "outputId": "873925f4-32e2-4d03-8c05-0868485e745e"
      },
      "execution_count": 52,
      "outputs": [
        {
          "output_type": "execute_result",
          "data": {
            "text/plain": [
              "0                      Mild to moderate acne (spots) Acne\n",
              "1       A RET 0.025% is a prescription medicine that i...\n",
              "2       It is used to treat acne vulgaris in people 12...\n",
              "3       It is used to treat acne vulgaris in people 12...\n",
              "4       treat the most severe form of acne (nodular ac...\n",
              "                              ...                        \n",
              "9715                        used for treating warts Wound\n",
              "9716                  used to soften the skin cells Wound\n",
              "9717                                 used for scars Wound\n",
              "9718                                used for wounds Wound\n",
              "9719    used to treat and remove raised warts (usually...\n",
              "Name: tags, Length: 9720, dtype: object"
            ]
          },
          "metadata": {},
          "execution_count": 52
        }
      ]
    },
    {
      "cell_type": "code",
      "source": [
        "new_df"
      ],
      "metadata": {
        "execution": {
          "iopub.status.busy": "2022-05-26T15:28:45.841331Z",
          "iopub.execute_input": "2022-05-26T15:28:45.841708Z",
          "iopub.status.idle": "2022-05-26T15:28:45.860869Z",
          "shell.execute_reply.started": "2022-05-26T15:28:45.841677Z",
          "shell.execute_reply": "2022-05-26T15:28:45.859984Z"
        },
        "trusted": true,
        "colab": {
          "base_uri": "https://localhost:8080/",
          "height": 424
        },
        "id": "YXUY6MvD4JWl",
        "outputId": "21f76124-53eb-4a32-8f23-1a9c73f491ca"
      },
      "execution_count": 53,
      "outputs": [
        {
          "output_type": "execute_result",
          "data": {
            "text/plain": [
              "      index                                          Drug_Name  \\\n",
              "0         1               A CN Gel(Topical) 20gmA CN Soap 75gm   \n",
              "1         2  A Ret 0.05% Gel 20gmA Ret 0.1% Gel 20gmA Ret 0...   \n",
              "2         3                             ACGEL CL NANO Gel 15gm   \n",
              "3         4                                ACGEL NANO Gel 15gm   \n",
              "4         5                              Acleen 1% Lotion 25ml   \n",
              "...     ...                                                ...   \n",
              "9715   9716                                T Muce Ointment 5gm   \n",
              "9716   9717  Wokadine 10% Solution 100mlWokadine Solution 5...   \n",
              "9717   9718                               Wokadine M Onit 10gm   \n",
              "9718   9719                           Wound Fix Solution 100ml   \n",
              "9719   9720                              Wounsol Ointment 15gm   \n",
              "\n",
              "                                                   tags  \n",
              "0             [Mild, to, moderate, acne, (spots), Acne]  \n",
              "1     [A, RET, 0.025%, is, a, prescription, medicine...  \n",
              "2     [It, is, used, to, treat, acne, vulgaris, in, ...  \n",
              "3     [It, is, used, to, treat, acne, vulgaris, in, ...  \n",
              "4     [treat, the, most, severe, form, of, acne, (no...  \n",
              "...                                                 ...  \n",
              "9715                [used, for, treating, warts, Wound]  \n",
              "9716        [used, to, soften, the, skin, cells, Wound]  \n",
              "9717                          [used, for, scars, Wound]  \n",
              "9718                         [used, for, wounds, Wound]  \n",
              "9719  [used, to, treat, and, remove, raised, warts, ...  \n",
              "\n",
              "[9720 rows x 3 columns]"
            ],
            "text/html": [
              "\n",
              "  <div id=\"df-597f3a82-6759-40a6-903f-d124403ed23e\">\n",
              "    <div class=\"colab-df-container\">\n",
              "      <div>\n",
              "<style scoped>\n",
              "    .dataframe tbody tr th:only-of-type {\n",
              "        vertical-align: middle;\n",
              "    }\n",
              "\n",
              "    .dataframe tbody tr th {\n",
              "        vertical-align: top;\n",
              "    }\n",
              "\n",
              "    .dataframe thead th {\n",
              "        text-align: right;\n",
              "    }\n",
              "</style>\n",
              "<table border=\"1\" class=\"dataframe\">\n",
              "  <thead>\n",
              "    <tr style=\"text-align: right;\">\n",
              "      <th></th>\n",
              "      <th>index</th>\n",
              "      <th>Drug_Name</th>\n",
              "      <th>tags</th>\n",
              "    </tr>\n",
              "  </thead>\n",
              "  <tbody>\n",
              "    <tr>\n",
              "      <th>0</th>\n",
              "      <td>1</td>\n",
              "      <td>A CN Gel(Topical) 20gmA CN Soap 75gm</td>\n",
              "      <td>[Mild, to, moderate, acne, (spots), Acne]</td>\n",
              "    </tr>\n",
              "    <tr>\n",
              "      <th>1</th>\n",
              "      <td>2</td>\n",
              "      <td>A Ret 0.05% Gel 20gmA Ret 0.1% Gel 20gmA Ret 0...</td>\n",
              "      <td>[A, RET, 0.025%, is, a, prescription, medicine...</td>\n",
              "    </tr>\n",
              "    <tr>\n",
              "      <th>2</th>\n",
              "      <td>3</td>\n",
              "      <td>ACGEL CL NANO Gel 15gm</td>\n",
              "      <td>[It, is, used, to, treat, acne, vulgaris, in, ...</td>\n",
              "    </tr>\n",
              "    <tr>\n",
              "      <th>3</th>\n",
              "      <td>4</td>\n",
              "      <td>ACGEL NANO Gel 15gm</td>\n",
              "      <td>[It, is, used, to, treat, acne, vulgaris, in, ...</td>\n",
              "    </tr>\n",
              "    <tr>\n",
              "      <th>4</th>\n",
              "      <td>5</td>\n",
              "      <td>Acleen 1% Lotion 25ml</td>\n",
              "      <td>[treat, the, most, severe, form, of, acne, (no...</td>\n",
              "    </tr>\n",
              "    <tr>\n",
              "      <th>...</th>\n",
              "      <td>...</td>\n",
              "      <td>...</td>\n",
              "      <td>...</td>\n",
              "    </tr>\n",
              "    <tr>\n",
              "      <th>9715</th>\n",
              "      <td>9716</td>\n",
              "      <td>T Muce Ointment 5gm</td>\n",
              "      <td>[used, for, treating, warts, Wound]</td>\n",
              "    </tr>\n",
              "    <tr>\n",
              "      <th>9716</th>\n",
              "      <td>9717</td>\n",
              "      <td>Wokadine 10% Solution 100mlWokadine Solution 5...</td>\n",
              "      <td>[used, to, soften, the, skin, cells, Wound]</td>\n",
              "    </tr>\n",
              "    <tr>\n",
              "      <th>9717</th>\n",
              "      <td>9718</td>\n",
              "      <td>Wokadine M Onit 10gm</td>\n",
              "      <td>[used, for, scars, Wound]</td>\n",
              "    </tr>\n",
              "    <tr>\n",
              "      <th>9718</th>\n",
              "      <td>9719</td>\n",
              "      <td>Wound Fix Solution 100ml</td>\n",
              "      <td>[used, for, wounds, Wound]</td>\n",
              "    </tr>\n",
              "    <tr>\n",
              "      <th>9719</th>\n",
              "      <td>9720</td>\n",
              "      <td>Wounsol Ointment 15gm</td>\n",
              "      <td>[used, to, treat, and, remove, raised, warts, ...</td>\n",
              "    </tr>\n",
              "  </tbody>\n",
              "</table>\n",
              "<p>9720 rows × 3 columns</p>\n",
              "</div>\n",
              "      <button class=\"colab-df-convert\" onclick=\"convertToInteractive('df-597f3a82-6759-40a6-903f-d124403ed23e')\"\n",
              "              title=\"Convert this dataframe to an interactive table.\"\n",
              "              style=\"display:none;\">\n",
              "        \n",
              "  <svg xmlns=\"http://www.w3.org/2000/svg\" height=\"24px\"viewBox=\"0 0 24 24\"\n",
              "       width=\"24px\">\n",
              "    <path d=\"M0 0h24v24H0V0z\" fill=\"none\"/>\n",
              "    <path d=\"M18.56 5.44l.94 2.06.94-2.06 2.06-.94-2.06-.94-.94-2.06-.94 2.06-2.06.94zm-11 1L8.5 8.5l.94-2.06 2.06-.94-2.06-.94L8.5 2.5l-.94 2.06-2.06.94zm10 10l.94 2.06.94-2.06 2.06-.94-2.06-.94-.94-2.06-.94 2.06-2.06.94z\"/><path d=\"M17.41 7.96l-1.37-1.37c-.4-.4-.92-.59-1.43-.59-.52 0-1.04.2-1.43.59L10.3 9.45l-7.72 7.72c-.78.78-.78 2.05 0 2.83L4 21.41c.39.39.9.59 1.41.59.51 0 1.02-.2 1.41-.59l7.78-7.78 2.81-2.81c.8-.78.8-2.07 0-2.86zM5.41 20L4 18.59l7.72-7.72 1.47 1.35L5.41 20z\"/>\n",
              "  </svg>\n",
              "      </button>\n",
              "      \n",
              "  <style>\n",
              "    .colab-df-container {\n",
              "      display:flex;\n",
              "      flex-wrap:wrap;\n",
              "      gap: 12px;\n",
              "    }\n",
              "\n",
              "    .colab-df-convert {\n",
              "      background-color: #E8F0FE;\n",
              "      border: none;\n",
              "      border-radius: 50%;\n",
              "      cursor: pointer;\n",
              "      display: none;\n",
              "      fill: #1967D2;\n",
              "      height: 32px;\n",
              "      padding: 0 0 0 0;\n",
              "      width: 32px;\n",
              "    }\n",
              "\n",
              "    .colab-df-convert:hover {\n",
              "      background-color: #E2EBFA;\n",
              "      box-shadow: 0px 1px 2px rgba(60, 64, 67, 0.3), 0px 1px 3px 1px rgba(60, 64, 67, 0.15);\n",
              "      fill: #174EA6;\n",
              "    }\n",
              "\n",
              "    [theme=dark] .colab-df-convert {\n",
              "      background-color: #3B4455;\n",
              "      fill: #D2E3FC;\n",
              "    }\n",
              "\n",
              "    [theme=dark] .colab-df-convert:hover {\n",
              "      background-color: #434B5C;\n",
              "      box-shadow: 0px 1px 3px 1px rgba(0, 0, 0, 0.15);\n",
              "      filter: drop-shadow(0px 1px 2px rgba(0, 0, 0, 0.3));\n",
              "      fill: #FFFFFF;\n",
              "    }\n",
              "  </style>\n",
              "\n",
              "      <script>\n",
              "        const buttonEl =\n",
              "          document.querySelector('#df-597f3a82-6759-40a6-903f-d124403ed23e button.colab-df-convert');\n",
              "        buttonEl.style.display =\n",
              "          google.colab.kernel.accessAllowed ? 'block' : 'none';\n",
              "\n",
              "        async function convertToInteractive(key) {\n",
              "          const element = document.querySelector('#df-597f3a82-6759-40a6-903f-d124403ed23e');\n",
              "          const dataTable =\n",
              "            await google.colab.kernel.invokeFunction('convertToInteractive',\n",
              "                                                     [key], {});\n",
              "          if (!dataTable) return;\n",
              "\n",
              "          const docLinkHtml = 'Like what you see? Visit the ' +\n",
              "            '<a target=\"_blank\" href=https://colab.research.google.com/notebooks/data_table.ipynb>data table notebook</a>'\n",
              "            + ' to learn more about interactive tables.';\n",
              "          element.innerHTML = '';\n",
              "          dataTable['output_type'] = 'display_data';\n",
              "          await google.colab.output.renderOutput(dataTable, element);\n",
              "          const docLink = document.createElement('div');\n",
              "          docLink.innerHTML = docLinkHtml;\n",
              "          element.appendChild(docLink);\n",
              "        }\n",
              "      </script>\n",
              "    </div>\n",
              "  </div>\n",
              "  "
            ]
          },
          "metadata": {},
          "execution_count": 53
        }
      ]
    },
    {
      "cell_type": "code",
      "source": [
        "new_df['tags'] = new_df['tags'].apply(lambda x:\" \".join(x))"
      ],
      "metadata": {
        "execution": {
          "iopub.status.busy": "2022-05-26T15:28:53.401240Z",
          "iopub.execute_input": "2022-05-26T15:28:53.401750Z",
          "iopub.status.idle": "2022-05-26T15:28:53.416558Z",
          "shell.execute_reply.started": "2022-05-26T15:28:53.401710Z",
          "shell.execute_reply": "2022-05-26T15:28:53.415509Z"
        },
        "trusted": true,
        "colab": {
          "base_uri": "https://localhost:8080/"
        },
        "id": "MaKbsF_D4JWl",
        "outputId": "535ef1c0-a3c1-42da-d068-20223e7cfbcd"
      },
      "execution_count": 54,
      "outputs": [
        {
          "output_type": "stream",
          "name": "stderr",
          "text": [
            "<ipython-input-54-ad44e9ca1347>:1: SettingWithCopyWarning: \n",
            "A value is trying to be set on a copy of a slice from a DataFrame.\n",
            "Try using .loc[row_indexer,col_indexer] = value instead\n",
            "\n",
            "See the caveats in the documentation: https://pandas.pydata.org/pandas-docs/stable/user_guide/indexing.html#returning-a-view-versus-a-copy\n",
            "  new_df['tags'] = new_df['tags'].apply(lambda x:\" \".join(x))\n"
          ]
        }
      ]
    },
    {
      "cell_type": "code",
      "source": [
        "new_df"
      ],
      "metadata": {
        "execution": {
          "iopub.status.busy": "2022-05-26T15:28:59.343330Z",
          "iopub.execute_input": "2022-05-26T15:28:59.343874Z",
          "iopub.status.idle": "2022-05-26T15:28:59.357037Z",
          "shell.execute_reply.started": "2022-05-26T15:28:59.343830Z",
          "shell.execute_reply": "2022-05-26T15:28:59.356307Z"
        },
        "trusted": true,
        "colab": {
          "base_uri": "https://localhost:8080/",
          "height": 424
        },
        "id": "bcIJ9ZTe4JWl",
        "outputId": "41a63944-9430-4211-a6c3-7cccf9e498cd"
      },
      "execution_count": 55,
      "outputs": [
        {
          "output_type": "execute_result",
          "data": {
            "text/plain": [
              "      index                                          Drug_Name  \\\n",
              "0         1               A CN Gel(Topical) 20gmA CN Soap 75gm   \n",
              "1         2  A Ret 0.05% Gel 20gmA Ret 0.1% Gel 20gmA Ret 0...   \n",
              "2         3                             ACGEL CL NANO Gel 15gm   \n",
              "3         4                                ACGEL NANO Gel 15gm   \n",
              "4         5                              Acleen 1% Lotion 25ml   \n",
              "...     ...                                                ...   \n",
              "9715   9716                                T Muce Ointment 5gm   \n",
              "9716   9717  Wokadine 10% Solution 100mlWokadine Solution 5...   \n",
              "9717   9718                               Wokadine M Onit 10gm   \n",
              "9718   9719                           Wound Fix Solution 100ml   \n",
              "9719   9720                              Wounsol Ointment 15gm   \n",
              "\n",
              "                                                   tags  \n",
              "0                    Mild to moderate acne (spots) Acne  \n",
              "1     A RET 0.025% is a prescription medicine that i...  \n",
              "2     It is used to treat acne vulgaris in people 12...  \n",
              "3     It is used to treat acne vulgaris in people 12...  \n",
              "4     treat the most severe form of acne (nodular ac...  \n",
              "...                                                 ...  \n",
              "9715                      used for treating warts Wound  \n",
              "9716                used to soften the skin cells Wound  \n",
              "9717                               used for scars Wound  \n",
              "9718                              used for wounds Wound  \n",
              "9719  used to treat and remove raised warts (usually...  \n",
              "\n",
              "[9720 rows x 3 columns]"
            ],
            "text/html": [
              "\n",
              "  <div id=\"df-f4d871ef-e79c-4254-8c97-c6ffd8f03463\">\n",
              "    <div class=\"colab-df-container\">\n",
              "      <div>\n",
              "<style scoped>\n",
              "    .dataframe tbody tr th:only-of-type {\n",
              "        vertical-align: middle;\n",
              "    }\n",
              "\n",
              "    .dataframe tbody tr th {\n",
              "        vertical-align: top;\n",
              "    }\n",
              "\n",
              "    .dataframe thead th {\n",
              "        text-align: right;\n",
              "    }\n",
              "</style>\n",
              "<table border=\"1\" class=\"dataframe\">\n",
              "  <thead>\n",
              "    <tr style=\"text-align: right;\">\n",
              "      <th></th>\n",
              "      <th>index</th>\n",
              "      <th>Drug_Name</th>\n",
              "      <th>tags</th>\n",
              "    </tr>\n",
              "  </thead>\n",
              "  <tbody>\n",
              "    <tr>\n",
              "      <th>0</th>\n",
              "      <td>1</td>\n",
              "      <td>A CN Gel(Topical) 20gmA CN Soap 75gm</td>\n",
              "      <td>Mild to moderate acne (spots) Acne</td>\n",
              "    </tr>\n",
              "    <tr>\n",
              "      <th>1</th>\n",
              "      <td>2</td>\n",
              "      <td>A Ret 0.05% Gel 20gmA Ret 0.1% Gel 20gmA Ret 0...</td>\n",
              "      <td>A RET 0.025% is a prescription medicine that i...</td>\n",
              "    </tr>\n",
              "    <tr>\n",
              "      <th>2</th>\n",
              "      <td>3</td>\n",
              "      <td>ACGEL CL NANO Gel 15gm</td>\n",
              "      <td>It is used to treat acne vulgaris in people 12...</td>\n",
              "    </tr>\n",
              "    <tr>\n",
              "      <th>3</th>\n",
              "      <td>4</td>\n",
              "      <td>ACGEL NANO Gel 15gm</td>\n",
              "      <td>It is used to treat acne vulgaris in people 12...</td>\n",
              "    </tr>\n",
              "    <tr>\n",
              "      <th>4</th>\n",
              "      <td>5</td>\n",
              "      <td>Acleen 1% Lotion 25ml</td>\n",
              "      <td>treat the most severe form of acne (nodular ac...</td>\n",
              "    </tr>\n",
              "    <tr>\n",
              "      <th>...</th>\n",
              "      <td>...</td>\n",
              "      <td>...</td>\n",
              "      <td>...</td>\n",
              "    </tr>\n",
              "    <tr>\n",
              "      <th>9715</th>\n",
              "      <td>9716</td>\n",
              "      <td>T Muce Ointment 5gm</td>\n",
              "      <td>used for treating warts Wound</td>\n",
              "    </tr>\n",
              "    <tr>\n",
              "      <th>9716</th>\n",
              "      <td>9717</td>\n",
              "      <td>Wokadine 10% Solution 100mlWokadine Solution 5...</td>\n",
              "      <td>used to soften the skin cells Wound</td>\n",
              "    </tr>\n",
              "    <tr>\n",
              "      <th>9717</th>\n",
              "      <td>9718</td>\n",
              "      <td>Wokadine M Onit 10gm</td>\n",
              "      <td>used for scars Wound</td>\n",
              "    </tr>\n",
              "    <tr>\n",
              "      <th>9718</th>\n",
              "      <td>9719</td>\n",
              "      <td>Wound Fix Solution 100ml</td>\n",
              "      <td>used for wounds Wound</td>\n",
              "    </tr>\n",
              "    <tr>\n",
              "      <th>9719</th>\n",
              "      <td>9720</td>\n",
              "      <td>Wounsol Ointment 15gm</td>\n",
              "      <td>used to treat and remove raised warts (usually...</td>\n",
              "    </tr>\n",
              "  </tbody>\n",
              "</table>\n",
              "<p>9720 rows × 3 columns</p>\n",
              "</div>\n",
              "      <button class=\"colab-df-convert\" onclick=\"convertToInteractive('df-f4d871ef-e79c-4254-8c97-c6ffd8f03463')\"\n",
              "              title=\"Convert this dataframe to an interactive table.\"\n",
              "              style=\"display:none;\">\n",
              "        \n",
              "  <svg xmlns=\"http://www.w3.org/2000/svg\" height=\"24px\"viewBox=\"0 0 24 24\"\n",
              "       width=\"24px\">\n",
              "    <path d=\"M0 0h24v24H0V0z\" fill=\"none\"/>\n",
              "    <path d=\"M18.56 5.44l.94 2.06.94-2.06 2.06-.94-2.06-.94-.94-2.06-.94 2.06-2.06.94zm-11 1L8.5 8.5l.94-2.06 2.06-.94-2.06-.94L8.5 2.5l-.94 2.06-2.06.94zm10 10l.94 2.06.94-2.06 2.06-.94-2.06-.94-.94-2.06-.94 2.06-2.06.94z\"/><path d=\"M17.41 7.96l-1.37-1.37c-.4-.4-.92-.59-1.43-.59-.52 0-1.04.2-1.43.59L10.3 9.45l-7.72 7.72c-.78.78-.78 2.05 0 2.83L4 21.41c.39.39.9.59 1.41.59.51 0 1.02-.2 1.41-.59l7.78-7.78 2.81-2.81c.8-.78.8-2.07 0-2.86zM5.41 20L4 18.59l7.72-7.72 1.47 1.35L5.41 20z\"/>\n",
              "  </svg>\n",
              "      </button>\n",
              "      \n",
              "  <style>\n",
              "    .colab-df-container {\n",
              "      display:flex;\n",
              "      flex-wrap:wrap;\n",
              "      gap: 12px;\n",
              "    }\n",
              "\n",
              "    .colab-df-convert {\n",
              "      background-color: #E8F0FE;\n",
              "      border: none;\n",
              "      border-radius: 50%;\n",
              "      cursor: pointer;\n",
              "      display: none;\n",
              "      fill: #1967D2;\n",
              "      height: 32px;\n",
              "      padding: 0 0 0 0;\n",
              "      width: 32px;\n",
              "    }\n",
              "\n",
              "    .colab-df-convert:hover {\n",
              "      background-color: #E2EBFA;\n",
              "      box-shadow: 0px 1px 2px rgba(60, 64, 67, 0.3), 0px 1px 3px 1px rgba(60, 64, 67, 0.15);\n",
              "      fill: #174EA6;\n",
              "    }\n",
              "\n",
              "    [theme=dark] .colab-df-convert {\n",
              "      background-color: #3B4455;\n",
              "      fill: #D2E3FC;\n",
              "    }\n",
              "\n",
              "    [theme=dark] .colab-df-convert:hover {\n",
              "      background-color: #434B5C;\n",
              "      box-shadow: 0px 1px 3px 1px rgba(0, 0, 0, 0.15);\n",
              "      filter: drop-shadow(0px 1px 2px rgba(0, 0, 0, 0.3));\n",
              "      fill: #FFFFFF;\n",
              "    }\n",
              "  </style>\n",
              "\n",
              "      <script>\n",
              "        const buttonEl =\n",
              "          document.querySelector('#df-f4d871ef-e79c-4254-8c97-c6ffd8f03463 button.colab-df-convert');\n",
              "        buttonEl.style.display =\n",
              "          google.colab.kernel.accessAllowed ? 'block' : 'none';\n",
              "\n",
              "        async function convertToInteractive(key) {\n",
              "          const element = document.querySelector('#df-f4d871ef-e79c-4254-8c97-c6ffd8f03463');\n",
              "          const dataTable =\n",
              "            await google.colab.kernel.invokeFunction('convertToInteractive',\n",
              "                                                     [key], {});\n",
              "          if (!dataTable) return;\n",
              "\n",
              "          const docLinkHtml = 'Like what you see? Visit the ' +\n",
              "            '<a target=\"_blank\" href=https://colab.research.google.com/notebooks/data_table.ipynb>data table notebook</a>'\n",
              "            + ' to learn more about interactive tables.';\n",
              "          element.innerHTML = '';\n",
              "          dataTable['output_type'] = 'display_data';\n",
              "          await google.colab.output.renderOutput(dataTable, element);\n",
              "          const docLink = document.createElement('div');\n",
              "          docLink.innerHTML = docLinkHtml;\n",
              "          element.appendChild(docLink);\n",
              "        }\n",
              "      </script>\n",
              "    </div>\n",
              "  </div>\n",
              "  "
            ]
          },
          "metadata": {},
          "execution_count": 55
        }
      ]
    },
    {
      "cell_type": "code",
      "source": [
        "new_df['tags'] = new_df['tags'].apply(lambda x:x.lower())"
      ],
      "metadata": {
        "execution": {
          "iopub.status.busy": "2022-05-26T15:29:03.967097Z",
          "iopub.execute_input": "2022-05-26T15:29:03.967503Z",
          "iopub.status.idle": "2022-05-26T15:29:03.980230Z",
          "shell.execute_reply.started": "2022-05-26T15:29:03.967459Z",
          "shell.execute_reply": "2022-05-26T15:29:03.979538Z"
        },
        "trusted": true,
        "colab": {
          "base_uri": "https://localhost:8080/"
        },
        "id": "oT7hM5BV4JWl",
        "outputId": "e61856f3-899a-4ba8-b55d-8c5c80589d8b"
      },
      "execution_count": 56,
      "outputs": [
        {
          "output_type": "stream",
          "name": "stderr",
          "text": [
            "<ipython-input-56-8b60b591a07f>:1: SettingWithCopyWarning: \n",
            "A value is trying to be set on a copy of a slice from a DataFrame.\n",
            "Try using .loc[row_indexer,col_indexer] = value instead\n",
            "\n",
            "See the caveats in the documentation: https://pandas.pydata.org/pandas-docs/stable/user_guide/indexing.html#returning-a-view-versus-a-copy\n",
            "  new_df['tags'] = new_df['tags'].apply(lambda x:x.lower())\n"
          ]
        }
      ]
    },
    {
      "cell_type": "code",
      "source": [
        "new_df"
      ],
      "metadata": {
        "execution": {
          "iopub.status.busy": "2022-05-26T15:29:09.899763Z",
          "iopub.execute_input": "2022-05-26T15:29:09.900261Z",
          "iopub.status.idle": "2022-05-26T15:29:09.913513Z",
          "shell.execute_reply.started": "2022-05-26T15:29:09.900231Z",
          "shell.execute_reply": "2022-05-26T15:29:09.912614Z"
        },
        "trusted": true,
        "colab": {
          "base_uri": "https://localhost:8080/",
          "height": 424
        },
        "id": "ATjkY8DJ4JWl",
        "outputId": "e56d8ef7-1845-43e0-bc7a-967e51fe0d41"
      },
      "execution_count": 57,
      "outputs": [
        {
          "output_type": "execute_result",
          "data": {
            "text/plain": [
              "      index                                          Drug_Name  \\\n",
              "0         1               A CN Gel(Topical) 20gmA CN Soap 75gm   \n",
              "1         2  A Ret 0.05% Gel 20gmA Ret 0.1% Gel 20gmA Ret 0...   \n",
              "2         3                             ACGEL CL NANO Gel 15gm   \n",
              "3         4                                ACGEL NANO Gel 15gm   \n",
              "4         5                              Acleen 1% Lotion 25ml   \n",
              "...     ...                                                ...   \n",
              "9715   9716                                T Muce Ointment 5gm   \n",
              "9716   9717  Wokadine 10% Solution 100mlWokadine Solution 5...   \n",
              "9717   9718                               Wokadine M Onit 10gm   \n",
              "9718   9719                           Wound Fix Solution 100ml   \n",
              "9719   9720                              Wounsol Ointment 15gm   \n",
              "\n",
              "                                                   tags  \n",
              "0                    mild to moderate acne (spots) acne  \n",
              "1     a ret 0.025% is a prescription medicine that i...  \n",
              "2     it is used to treat acne vulgaris in people 12...  \n",
              "3     it is used to treat acne vulgaris in people 12...  \n",
              "4     treat the most severe form of acne (nodular ac...  \n",
              "...                                                 ...  \n",
              "9715                      used for treating warts wound  \n",
              "9716                used to soften the skin cells wound  \n",
              "9717                               used for scars wound  \n",
              "9718                              used for wounds wound  \n",
              "9719  used to treat and remove raised warts (usually...  \n",
              "\n",
              "[9720 rows x 3 columns]"
            ],
            "text/html": [
              "\n",
              "  <div id=\"df-bb84f33b-8108-430c-9c48-197fa683b536\">\n",
              "    <div class=\"colab-df-container\">\n",
              "      <div>\n",
              "<style scoped>\n",
              "    .dataframe tbody tr th:only-of-type {\n",
              "        vertical-align: middle;\n",
              "    }\n",
              "\n",
              "    .dataframe tbody tr th {\n",
              "        vertical-align: top;\n",
              "    }\n",
              "\n",
              "    .dataframe thead th {\n",
              "        text-align: right;\n",
              "    }\n",
              "</style>\n",
              "<table border=\"1\" class=\"dataframe\">\n",
              "  <thead>\n",
              "    <tr style=\"text-align: right;\">\n",
              "      <th></th>\n",
              "      <th>index</th>\n",
              "      <th>Drug_Name</th>\n",
              "      <th>tags</th>\n",
              "    </tr>\n",
              "  </thead>\n",
              "  <tbody>\n",
              "    <tr>\n",
              "      <th>0</th>\n",
              "      <td>1</td>\n",
              "      <td>A CN Gel(Topical) 20gmA CN Soap 75gm</td>\n",
              "      <td>mild to moderate acne (spots) acne</td>\n",
              "    </tr>\n",
              "    <tr>\n",
              "      <th>1</th>\n",
              "      <td>2</td>\n",
              "      <td>A Ret 0.05% Gel 20gmA Ret 0.1% Gel 20gmA Ret 0...</td>\n",
              "      <td>a ret 0.025% is a prescription medicine that i...</td>\n",
              "    </tr>\n",
              "    <tr>\n",
              "      <th>2</th>\n",
              "      <td>3</td>\n",
              "      <td>ACGEL CL NANO Gel 15gm</td>\n",
              "      <td>it is used to treat acne vulgaris in people 12...</td>\n",
              "    </tr>\n",
              "    <tr>\n",
              "      <th>3</th>\n",
              "      <td>4</td>\n",
              "      <td>ACGEL NANO Gel 15gm</td>\n",
              "      <td>it is used to treat acne vulgaris in people 12...</td>\n",
              "    </tr>\n",
              "    <tr>\n",
              "      <th>4</th>\n",
              "      <td>5</td>\n",
              "      <td>Acleen 1% Lotion 25ml</td>\n",
              "      <td>treat the most severe form of acne (nodular ac...</td>\n",
              "    </tr>\n",
              "    <tr>\n",
              "      <th>...</th>\n",
              "      <td>...</td>\n",
              "      <td>...</td>\n",
              "      <td>...</td>\n",
              "    </tr>\n",
              "    <tr>\n",
              "      <th>9715</th>\n",
              "      <td>9716</td>\n",
              "      <td>T Muce Ointment 5gm</td>\n",
              "      <td>used for treating warts wound</td>\n",
              "    </tr>\n",
              "    <tr>\n",
              "      <th>9716</th>\n",
              "      <td>9717</td>\n",
              "      <td>Wokadine 10% Solution 100mlWokadine Solution 5...</td>\n",
              "      <td>used to soften the skin cells wound</td>\n",
              "    </tr>\n",
              "    <tr>\n",
              "      <th>9717</th>\n",
              "      <td>9718</td>\n",
              "      <td>Wokadine M Onit 10gm</td>\n",
              "      <td>used for scars wound</td>\n",
              "    </tr>\n",
              "    <tr>\n",
              "      <th>9718</th>\n",
              "      <td>9719</td>\n",
              "      <td>Wound Fix Solution 100ml</td>\n",
              "      <td>used for wounds wound</td>\n",
              "    </tr>\n",
              "    <tr>\n",
              "      <th>9719</th>\n",
              "      <td>9720</td>\n",
              "      <td>Wounsol Ointment 15gm</td>\n",
              "      <td>used to treat and remove raised warts (usually...</td>\n",
              "    </tr>\n",
              "  </tbody>\n",
              "</table>\n",
              "<p>9720 rows × 3 columns</p>\n",
              "</div>\n",
              "      <button class=\"colab-df-convert\" onclick=\"convertToInteractive('df-bb84f33b-8108-430c-9c48-197fa683b536')\"\n",
              "              title=\"Convert this dataframe to an interactive table.\"\n",
              "              style=\"display:none;\">\n",
              "        \n",
              "  <svg xmlns=\"http://www.w3.org/2000/svg\" height=\"24px\"viewBox=\"0 0 24 24\"\n",
              "       width=\"24px\">\n",
              "    <path d=\"M0 0h24v24H0V0z\" fill=\"none\"/>\n",
              "    <path d=\"M18.56 5.44l.94 2.06.94-2.06 2.06-.94-2.06-.94-.94-2.06-.94 2.06-2.06.94zm-11 1L8.5 8.5l.94-2.06 2.06-.94-2.06-.94L8.5 2.5l-.94 2.06-2.06.94zm10 10l.94 2.06.94-2.06 2.06-.94-2.06-.94-.94-2.06-.94 2.06-2.06.94z\"/><path d=\"M17.41 7.96l-1.37-1.37c-.4-.4-.92-.59-1.43-.59-.52 0-1.04.2-1.43.59L10.3 9.45l-7.72 7.72c-.78.78-.78 2.05 0 2.83L4 21.41c.39.39.9.59 1.41.59.51 0 1.02-.2 1.41-.59l7.78-7.78 2.81-2.81c.8-.78.8-2.07 0-2.86zM5.41 20L4 18.59l7.72-7.72 1.47 1.35L5.41 20z\"/>\n",
              "  </svg>\n",
              "      </button>\n",
              "      \n",
              "  <style>\n",
              "    .colab-df-container {\n",
              "      display:flex;\n",
              "      flex-wrap:wrap;\n",
              "      gap: 12px;\n",
              "    }\n",
              "\n",
              "    .colab-df-convert {\n",
              "      background-color: #E8F0FE;\n",
              "      border: none;\n",
              "      border-radius: 50%;\n",
              "      cursor: pointer;\n",
              "      display: none;\n",
              "      fill: #1967D2;\n",
              "      height: 32px;\n",
              "      padding: 0 0 0 0;\n",
              "      width: 32px;\n",
              "    }\n",
              "\n",
              "    .colab-df-convert:hover {\n",
              "      background-color: #E2EBFA;\n",
              "      box-shadow: 0px 1px 2px rgba(60, 64, 67, 0.3), 0px 1px 3px 1px rgba(60, 64, 67, 0.15);\n",
              "      fill: #174EA6;\n",
              "    }\n",
              "\n",
              "    [theme=dark] .colab-df-convert {\n",
              "      background-color: #3B4455;\n",
              "      fill: #D2E3FC;\n",
              "    }\n",
              "\n",
              "    [theme=dark] .colab-df-convert:hover {\n",
              "      background-color: #434B5C;\n",
              "      box-shadow: 0px 1px 3px 1px rgba(0, 0, 0, 0.15);\n",
              "      filter: drop-shadow(0px 1px 2px rgba(0, 0, 0, 0.3));\n",
              "      fill: #FFFFFF;\n",
              "    }\n",
              "  </style>\n",
              "\n",
              "      <script>\n",
              "        const buttonEl =\n",
              "          document.querySelector('#df-bb84f33b-8108-430c-9c48-197fa683b536 button.colab-df-convert');\n",
              "        buttonEl.style.display =\n",
              "          google.colab.kernel.accessAllowed ? 'block' : 'none';\n",
              "\n",
              "        async function convertToInteractive(key) {\n",
              "          const element = document.querySelector('#df-bb84f33b-8108-430c-9c48-197fa683b536');\n",
              "          const dataTable =\n",
              "            await google.colab.kernel.invokeFunction('convertToInteractive',\n",
              "                                                     [key], {});\n",
              "          if (!dataTable) return;\n",
              "\n",
              "          const docLinkHtml = 'Like what you see? Visit the ' +\n",
              "            '<a target=\"_blank\" href=https://colab.research.google.com/notebooks/data_table.ipynb>data table notebook</a>'\n",
              "            + ' to learn more about interactive tables.';\n",
              "          element.innerHTML = '';\n",
              "          dataTable['output_type'] = 'display_data';\n",
              "          await google.colab.output.renderOutput(dataTable, element);\n",
              "          const docLink = document.createElement('div');\n",
              "          docLink.innerHTML = docLinkHtml;\n",
              "          element.appendChild(docLink);\n",
              "        }\n",
              "      </script>\n",
              "    </div>\n",
              "  </div>\n",
              "  "
            ]
          },
          "metadata": {},
          "execution_count": 57
        }
      ]
    },
    {
      "cell_type": "code",
      "source": [
        "!pip install nltk"
      ],
      "metadata": {
        "execution": {
          "iopub.status.busy": "2022-05-26T15:29:15.033480Z",
          "iopub.execute_input": "2022-05-26T15:29:15.034557Z",
          "iopub.status.idle": "2022-05-26T15:29:32.260361Z",
          "shell.execute_reply.started": "2022-05-26T15:29:15.034474Z",
          "shell.execute_reply": "2022-05-26T15:29:32.259461Z"
        },
        "trusted": true,
        "colab": {
          "base_uri": "https://localhost:8080/"
        },
        "id": "ciYJYcBe4JWl",
        "outputId": "c1bae51f-2bde-42d7-feff-6c9ae969c97e"
      },
      "execution_count": 58,
      "outputs": [
        {
          "output_type": "stream",
          "name": "stdout",
          "text": [
            "Looking in indexes: https://pypi.org/simple, https://us-python.pkg.dev/colab-wheels/public/simple/\n",
            "Requirement already satisfied: nltk in /usr/local/lib/python3.10/dist-packages (3.8.1)\n",
            "Requirement already satisfied: click in /usr/local/lib/python3.10/dist-packages (from nltk) (8.1.3)\n",
            "Requirement already satisfied: joblib in /usr/local/lib/python3.10/dist-packages (from nltk) (1.2.0)\n",
            "Requirement already satisfied: regex>=2021.8.3 in /usr/local/lib/python3.10/dist-packages (from nltk) (2022.10.31)\n",
            "Requirement already satisfied: tqdm in /usr/local/lib/python3.10/dist-packages (from nltk) (4.65.0)\n"
          ]
        }
      ]
    },
    {
      "cell_type": "code",
      "source": [
        "import nltk"
      ],
      "metadata": {
        "execution": {
          "iopub.status.busy": "2022-05-26T15:29:32.262070Z",
          "iopub.execute_input": "2022-05-26T15:29:32.262390Z",
          "iopub.status.idle": "2022-05-26T15:29:33.396808Z",
          "shell.execute_reply.started": "2022-05-26T15:29:32.262358Z",
          "shell.execute_reply": "2022-05-26T15:29:33.395776Z"
        },
        "trusted": true,
        "id": "iJDSvHhH4JWl"
      },
      "execution_count": 59,
      "outputs": []
    },
    {
      "cell_type": "code",
      "source": [
        "from nltk.stem.porter import PorterStemmer\n",
        "ps = PorterStemmer()"
      ],
      "metadata": {
        "execution": {
          "iopub.status.busy": "2022-05-26T15:29:44.930510Z",
          "iopub.execute_input": "2022-05-26T15:29:44.930999Z",
          "iopub.status.idle": "2022-05-26T15:29:44.935856Z",
          "shell.execute_reply.started": "2022-05-26T15:29:44.930950Z",
          "shell.execute_reply": "2022-05-26T15:29:44.934888Z"
        },
        "trusted": true,
        "id": "wZvV07Lz4JWl"
      },
      "execution_count": 60,
      "outputs": []
    },
    {
      "cell_type": "code",
      "source": [
        "!pip install -U scikit-learn scipy matplotlib"
      ],
      "metadata": {
        "execution": {
          "iopub.status.busy": "2022-05-26T15:29:57.554233Z",
          "iopub.execute_input": "2022-05-26T15:29:57.554659Z",
          "iopub.status.idle": "2022-05-26T15:30:14.886756Z",
          "shell.execute_reply.started": "2022-05-26T15:29:57.554624Z",
          "shell.execute_reply": "2022-05-26T15:30:14.885564Z"
        },
        "trusted": true,
        "colab": {
          "base_uri": "https://localhost:8080/"
        },
        "id": "YO1D_1-14JWl",
        "outputId": "a068eb19-04a3-4cd3-c801-7f6e945b47c9"
      },
      "execution_count": 61,
      "outputs": [
        {
          "output_type": "stream",
          "name": "stdout",
          "text": [
            "Looking in indexes: https://pypi.org/simple, https://us-python.pkg.dev/colab-wheels/public/simple/\n",
            "Requirement already satisfied: scikit-learn in /usr/local/lib/python3.10/dist-packages (1.2.2)\n",
            "Requirement already satisfied: scipy in /usr/local/lib/python3.10/dist-packages (1.10.1)\n",
            "Requirement already satisfied: matplotlib in /usr/local/lib/python3.10/dist-packages (3.7.1)\n",
            "Requirement already satisfied: numpy>=1.17.3 in /usr/local/lib/python3.10/dist-packages (from scikit-learn) (1.22.4)\n",
            "Requirement already satisfied: joblib>=1.1.1 in /usr/local/lib/python3.10/dist-packages (from scikit-learn) (1.2.0)\n",
            "Requirement already satisfied: threadpoolctl>=2.0.0 in /usr/local/lib/python3.10/dist-packages (from scikit-learn) (3.1.0)\n",
            "Requirement already satisfied: contourpy>=1.0.1 in /usr/local/lib/python3.10/dist-packages (from matplotlib) (1.0.7)\n",
            "Requirement already satisfied: cycler>=0.10 in /usr/local/lib/python3.10/dist-packages (from matplotlib) (0.11.0)\n",
            "Requirement already satisfied: fonttools>=4.22.0 in /usr/local/lib/python3.10/dist-packages (from matplotlib) (4.39.3)\n",
            "Requirement already satisfied: kiwisolver>=1.0.1 in /usr/local/lib/python3.10/dist-packages (from matplotlib) (1.4.4)\n",
            "Requirement already satisfied: packaging>=20.0 in /usr/local/lib/python3.10/dist-packages (from matplotlib) (23.1)\n",
            "Requirement already satisfied: pillow>=6.2.0 in /usr/local/lib/python3.10/dist-packages (from matplotlib) (8.4.0)\n",
            "Requirement already satisfied: pyparsing>=2.3.1 in /usr/local/lib/python3.10/dist-packages (from matplotlib) (3.0.9)\n",
            "Requirement already satisfied: python-dateutil>=2.7 in /usr/local/lib/python3.10/dist-packages (from matplotlib) (2.8.2)\n",
            "Requirement already satisfied: six>=1.5 in /usr/local/lib/python3.10/dist-packages (from python-dateutil>=2.7->matplotlib) (1.16.0)\n"
          ]
        }
      ]
    },
    {
      "cell_type": "code",
      "source": [
        "from sklearn.feature_extraction.text import CountVectorizer\n",
        "cv = CountVectorizer(stop_words='english',max_features=5000)"
      ],
      "metadata": {
        "execution": {
          "iopub.status.busy": "2022-05-26T15:30:19.262540Z",
          "iopub.execute_input": "2022-05-26T15:30:19.262947Z",
          "iopub.status.idle": "2022-05-26T15:30:19.267598Z",
          "shell.execute_reply.started": "2022-05-26T15:30:19.262907Z",
          "shell.execute_reply": "2022-05-26T15:30:19.266709Z"
        },
        "trusted": true,
        "id": "kHr6lnG24JWm"
      },
      "execution_count": 62,
      "outputs": []
    },
    {
      "cell_type": "code",
      "source": [
        "def stem(text):\n",
        "  y = []\n",
        "\n",
        "  for i in text.split():\n",
        "    y.append(ps.stem(i))\n",
        "\n",
        "  return \" \".join(y)  "
      ],
      "metadata": {
        "execution": {
          "iopub.status.busy": "2022-05-26T15:30:34.110440Z",
          "iopub.execute_input": "2022-05-26T15:30:34.110883Z",
          "iopub.status.idle": "2022-05-26T15:30:34.115964Z",
          "shell.execute_reply.started": "2022-05-26T15:30:34.110851Z",
          "shell.execute_reply": "2022-05-26T15:30:34.115054Z"
        },
        "trusted": true,
        "id": "MEU4IgZv4JWm"
      },
      "execution_count": 63,
      "outputs": []
    },
    {
      "cell_type": "code",
      "source": [
        "new_df['tags'] = new_df['tags'].apply(stem)"
      ],
      "metadata": {
        "execution": {
          "iopub.status.busy": "2022-05-26T15:30:40.637709Z",
          "iopub.execute_input": "2022-05-26T15:30:40.638132Z",
          "iopub.status.idle": "2022-05-26T15:30:43.759883Z",
          "shell.execute_reply.started": "2022-05-26T15:30:40.638098Z",
          "shell.execute_reply": "2022-05-26T15:30:43.758904Z"
        },
        "trusted": true,
        "colab": {
          "base_uri": "https://localhost:8080/"
        },
        "id": "90klbQvd4JWm",
        "outputId": "228a4900-f1b6-426b-b27d-96c78d7f71e2"
      },
      "execution_count": 64,
      "outputs": [
        {
          "output_type": "stream",
          "name": "stderr",
          "text": [
            "<ipython-input-64-be18a4346d89>:1: SettingWithCopyWarning: \n",
            "A value is trying to be set on a copy of a slice from a DataFrame.\n",
            "Try using .loc[row_indexer,col_indexer] = value instead\n",
            "\n",
            "See the caveats in the documentation: https://pandas.pydata.org/pandas-docs/stable/user_guide/indexing.html#returning-a-view-versus-a-copy\n",
            "  new_df['tags'] = new_df['tags'].apply(stem)\n"
          ]
        }
      ]
    },
    {
      "cell_type": "code",
      "source": [
        "cv.fit_transform(new_df['tags']).toarray().shape"
      ],
      "metadata": {
        "execution": {
          "iopub.status.busy": "2022-05-26T15:30:47.868441Z",
          "iopub.execute_input": "2022-05-26T15:30:47.868994Z",
          "iopub.status.idle": "2022-05-26T15:30:48.096978Z",
          "shell.execute_reply.started": "2022-05-26T15:30:47.868951Z",
          "shell.execute_reply": "2022-05-26T15:30:48.096104Z"
        },
        "trusted": true,
        "colab": {
          "base_uri": "https://localhost:8080/"
        },
        "id": "6hTe469H4JWm",
        "outputId": "4933be4d-4aac-4d79-e108-38db587b955a"
      },
      "execution_count": 65,
      "outputs": [
        {
          "output_type": "execute_result",
          "data": {
            "text/plain": [
              "(9720, 806)"
            ]
          },
          "metadata": {},
          "execution_count": 65
        }
      ]
    },
    {
      "cell_type": "code",
      "source": [
        "vectors = cv.fit_transform(new_df['tags']).toarray()"
      ],
      "metadata": {
        "execution": {
          "iopub.status.busy": "2022-05-26T15:30:54.494898Z",
          "iopub.execute_input": "2022-05-26T15:30:54.495313Z",
          "iopub.status.idle": "2022-05-26T15:30:54.713078Z",
          "shell.execute_reply.started": "2022-05-26T15:30:54.495280Z",
          "shell.execute_reply": "2022-05-26T15:30:54.712369Z"
        },
        "trusted": true,
        "id": "3gGcrDnj4JWm"
      },
      "execution_count": 66,
      "outputs": []
    },
    {
      "cell_type": "code",
      "source": [
        "cv.get_feature_names_out()"
      ],
      "metadata": {
        "execution": {
          "iopub.status.busy": "2022-05-26T15:30:59.892872Z",
          "iopub.execute_input": "2022-05-26T15:30:59.893280Z",
          "iopub.status.idle": "2022-05-26T15:30:59.916357Z",
          "shell.execute_reply.started": "2022-05-26T15:30:59.893247Z",
          "shell.execute_reply": "2022-05-26T15:30:59.915644Z"
        },
        "trusted": true,
        "colab": {
          "base_uri": "https://localhost:8080/"
        },
        "id": "tUThvYN74JWm",
        "outputId": "471ef827-bcfd-4759-bbc0-8e1ac4dcaaf2"
      },
      "execution_count": 67,
      "outputs": [
        {
          "output_type": "execute_result",
          "data": {
            "text/plain": [
              "array(['025', '12', '16', '18', 'abdomin', 'abl', 'ach', 'acid', 'acn',\n",
              "       'acne', 'acquir', 'action', 'activ', 'acut', 'acute', 'adequ',\n",
              "       'adhd', 'adjunct', 'adolesc', 'adult', 'adults', 'affect', 'ag',\n",
              "       'age', 'aids', 'allerg', 'allergen', 'allergi', 'allow', 'alon',\n",
              "       'alzheim', 'alzheimer', 'alzheimerâ', 'amoebiasi', 'anaemia',\n",
              "       'anal', 'angina', 'angl', 'ani', 'ankylos', 'anorexia', 'anoth',\n",
              "       'anti', 'antioxid', 'antipsychot', 'antiretrovir', 'anxieti',\n",
              "       'anxiou', 'anxious', 'apnoea', 'appear', 'appetit', 'appetite',\n",
              "       'appli', 'appropri', 'area', 'arrhythmia', 'arrhythmiasi',\n",
              "       'arteri', 'arthralgia', 'arthriti', 'associ', 'atherothrombot',\n",
              "       'athleteâ', 'atop', 'atrial', 'attack', 'awak', 'b1', 'b2', 'b3',\n",
              "       'b5', 'b6', 'babi', 'backache', 'bacteri', 'bacteria', 'balanc',\n",
              "       'balanitis', 'bandag', 'becom', 'behaviour', 'beliefs', 'benefit',\n",
              "       'beta', 'biliari', 'biotin', 'bite', 'blackhead', 'blackheads',\n",
              "       'bleaches', 'bleed', 'bloating', 'block', 'blood', 'bodi', 'bodyâ',\n",
              "       'bon', 'bone', 'bones', 'bowel', 'brain', 'breakdown', 'breath',\n",
              "       'brighten', 'bronchiti', 'brown', 'bursitis', 'calcium', 'calm',\n",
              "       'cancer', 'candid', 'candidiasis', 'canâ', 'carbohydr',\n",
              "       'cardiovascular', 'care', 'carrier', 'cartilag', 'case', 'cases',\n",
              "       'cataract', 'caus', 'cavity', 'cell', 'certain', 'chanc', 'chang',\n",
              "       'characteris', 'chemic', 'chemotherapi', 'chest', 'chickenpox',\n",
              "       'childhood', 'children', 'chlosma', 'cholesterol', 'chronic',\n",
              "       'clean', 'cleaner', 'cleanser', 'clear', 'clot', 'cmv', 'cold',\n",
              "       'colds', 'colic', 'colon', 'colorect', 'coma', 'combin', 'common',\n",
              "       'complet', 'complexion', 'concomit', 'condit', 'conditions',\n",
              "       'confused', 'confusion', 'congestion', 'conjunct', 'consciousness',\n",
              "       'consid', 'consist', 'constip', 'constipation', 'constipationâ',\n",
              "       'continu', 'contracept', 'control', 'contusion', 'convent',\n",
              "       'convulsion', 'corpori', 'corticosteroid', 'cough', 'cramp',\n",
              "       'cream', 'cruri', 'cushion', 'cycl', 'cytomegaloviru',\n",
              "       'cytoprotect', 'd3', 'daili', 'damag', 'dandruff', 'dark', 'death',\n",
              "       'decreas', 'defici', 'degrad', 'degre', 'delay', 'demand',\n",
              "       'dementia', 'dental', 'deposit', 'depress', 'depressed', 'dermat',\n",
              "       'deterg', 'diabet', 'diagnost', 'diarrhea', 'diarrhoea', 'diet',\n",
              "       'differ', 'difficult', 'difficulti', 'digest', 'digestion',\n",
              "       'dilate', 'discolor', 'discoloured', 'diseas', 'disord',\n",
              "       'disorder', 'disorders', 'displac', 'distens', 'dizzi', 'doctor',\n",
              "       'doe', 'drain', 'drained', 'dri', 'drop', 'drowsi', 'drugs',\n",
              "       'dull', 'dure', 'dysmenorrhea', 'ear', 'ears', 'eczema', 'effect',\n",
              "       'effects', 'elbow', 'element', 'emot', 'encephalopathi',\n",
              "       'endometriosi', 'energi', 'energy', 'enhanc', 'enlarg', 'enzym',\n",
              "       'enzyme', 'epicondylitis', 'episod', 'especi', 'essenti', 'event',\n",
              "       'excess', 'exercis', 'exfoli', 'exocrin', 'extern', 'extra', 'eye',\n",
              "       'eyes', 'face', 'fade', 'fail', 'failur', 'failure', 'fast', 'fat',\n",
              "       'fatigue', 'fats', 'fatti', 'febril', 'feed', 'feel', 'feet',\n",
              "       'fever', 'feverish', 'fibril', 'fine', 'fissur', 'flat', 'flatul',\n",
              "       'flatulence', 'flexibl', 'flow', 'flu', 'fluid', 'flutter',\n",
              "       'focus', 'folic', 'follow', 'food', 'foot', 'form', 'format',\n",
              "       'free', 'fresh', 'friction', 'function', 'fungal', 'fungi',\n",
              "       'fungu', 'gain', 'gener', 'genit', 'gland', 'glaucoma', 'glow',\n",
              "       'gonorrhoea', 'good', 'gout', 'gradual', 'gravi', 'growth',\n",
              "       'guilty', 'gum', 'ha', 'haematopoiesi', 'haemorrhoid',\n",
              "       'haemorrhoidectomi', 'haemorrhoids', 'hair', 'hallucinations',\n",
              "       'hands', 'hard', 'hay', 'head', 'headach', 'headache', 'heal',\n",
              "       'health', 'healthy', 'hear', 'hearing', 'heart', 'heartbeat',\n",
              "       'help', 'hepat', 'herp', 'high', 'hiv', 'hives', 'hormon',\n",
              "       'hospit', 'human', 'hygien', 'hypercalcaemia', 'hyperparathyroid',\n",
              "       'hyperpigment', 'hyperpigmentation', 'hypertens', 'hypertension',\n",
              "       'hyperthyroid', 'hypertrophi', 'hypnosi', 'hypotens',\n",
              "       'hypothyroid', 'hypothyroidism', 'hyroid', 'ibs', 'immun',\n",
              "       'immunodefici', 'improv', 'improvesâ', 'includ', 'incoher',\n",
              "       'incomplet', 'increas', 'indic', 'indigest', 'induc', 'infect',\n",
              "       'infection', 'infections', 'infest', 'inflamm', 'inflammationâ',\n",
              "       'inflammatori', 'influenza', 'infrequ', 'inguinalis', 'inhal',\n",
              "       'inhibitor', 'injuri', 'inner', 'insect', 'insid', 'insomnia',\n",
              "       'insufficiencyâ', 'integr', 'intens', 'interdigit', 'intern',\n",
              "       'interrupt', 'intestin', 'intestinal', 'intoler', 'invas',\n",
              "       'involuntari', 'iodine', 'iritis', 'iron', 'irrit', 'isâ', 'itch',\n",
              "       'itâ', 'jewelleri', 'jock', 'joint', 'kidney', 'kit', 'knees',\n",
              "       'known', 'lack', 'lactat', 'lead', 'learning', 'left', 'level',\n",
              "       'lice', 'life', 'ligaments', 'line', 'lip', 'liquid', 'liv',\n",
              "       'live', 'liver', 'long', 'look', 'lose', 'loss', 'lotion', 'lower',\n",
              "       'lowersâ', 'lowerâ', 'lung', 'lvh', 'mainli', 'maintain', 'major',\n",
              "       'make', 'malari', 'malaria', 'malignancies', 'manag', 'manganese',\n",
              "       'mani', 'manuum', 'marrow', 'medic', 'medicin', 'melanin',\n",
              "       'melasma', 'mellitu', 'memori', 'men', 'mening', 'menopaus',\n",
              "       'mental', 'metabol', 'methyl', 'micronutri', 'migrain', 'migraine',\n",
              "       'mild', 'milk', 'miner', 'minor', 'mistaken', 'mobil', 'moder',\n",
              "       'moderate', 'moistur', 'molybdenum', 'motion', 'movement',\n",
              "       'movements', 'muscl', 'muscular', 'musculoskelet', 'myalgia',\n",
              "       'myasthenia', 'mydriasi', 'myeloid', 'narrow', 'nasal', 'natur',\n",
              "       'nausea', 'need', 'nephropathy', 'nerv', 'nervosa', 'nervousness',\n",
              "       'nettl', 'neuralgia', 'neutral', 'newborns', 'nodular', 'non',\n",
              "       'normal', 'nose', 'nutrient', 'nutrit', 'occur', 'ocular', 'ofâ',\n",
              "       'oili', 'older', 'onli', 'op', 'open', 'oper', 'oral', 'origin',\n",
              "       'osteoarthr', 'osteodystrophy', 'osteoporosi', 'oxid', 'oxidation',\n",
              "       'pah', 'pain', 'pancrea', 'paralys', 'parathyroid', 'parkinson',\n",
              "       'parkinsonâ', 'passag', 'patch', 'patches', 'patient', 'patientsâ',\n",
              "       'pectori', 'pectoris', 'pedis', 'pelvic', 'penil', 'peopl',\n",
              "       'peptid', 'period', 'physic', 'piles', 'pimpl', 'pimple',\n",
              "       'pityriasi', 'polysaccharid', 'portal', 'post', 'potent', 'power',\n",
              "       'pre', 'prednisolon', 'pregnanc', 'prematur', 'preoper',\n",
              "       'prescrib', 'prescript', 'present', 'pressur', 'prevent', 'prexia',\n",
              "       'primari', 'prinzmet', 'problem', 'procedur', 'process',\n",
              "       'proctiti', 'produc', 'product', 'progress', 'prolactin', 'promot',\n",
              "       'properti', 'protect', 'provid', 'pseudo', 'psychosi',\n",
              "       'psychosomat', 'pulmonari', 'pupil', 'pyrexia', 'rabi', 'radicals',\n",
              "       'radiculitis', 'rais', 'rarer', 'rash', 'react', 'reaction',\n",
              "       'receiv', 'recommend', 'red', 'reduc', 'reduct', 'refer',\n",
              "       'regener', 'regimen', 'relat', 'releief', 'relief', 'reliev',\n",
              "       'reliv', 'remov', 'renal', 'repair', 'replac', 'reproduct',\n",
              "       'resist', 'respiratori', 'respond', 'respons', 'restor', 'ret',\n",
              "       'retin', 'rheumat', 'ring', 'ringworm', 'root', 'rosacea', 'scabi',\n",
              "       'scali', 'scalp', 'scar', 'schizophren', 'schizophrenia',\n",
              "       'seborrh', 'sed', 'sedat', 'sens', 'sever', 'shingl', 'short',\n",
              "       'sick', 'sickness', 'silki', 'simpl', 'simplex', 'sinusitis',\n",
              "       'skelet', 'skin', 'skinâ', 'sleep', 'slow', 'small', 'smoke',\n",
              "       'smooth', 'soaps', 'soar', 'soft', 'soften', 'soothen', 'sore',\n",
              "       'sores', 'spasmod', 'speech', 'speed', 'spondyl', 'spot', 'spots',\n",
              "       'sprain', 'spread', 'stabil', 'starch', 'start', 'state',\n",
              "       'steroids', 'stiff', 'stomach', 'stools', 'stop', 'strains',\n",
              "       'strengthen', 'stroke', 'structur', 'substanc', 'suffer', 'sugar',\n",
              "       'sunburn', 'sunscreen', 'suppl', 'supplement', 'support',\n",
              "       'surgeri', 'surgeryâ', 'surgic', 'suspiciousness', 'sweat',\n",
              "       'swell', 'swelling', 'swollen', 'symptom', 'symptomat', 'symptoms',\n",
              "       'syndrom', 'synovi', 'synovitis', 'synthesi', 'synthet',\n",
              "       'syphilis', 'tablet', 'tachycardia', 'task', 'temperature',\n",
              "       'tender', 'tendonitis', 'tens', 'term', 'textur', 'therapi',\n",
              "       'therebi', 'thi', 'thing', 'throat', 'thrombolysi', 'thrush',\n",
              "       'thu', 'thyroid', 'thyroxin', 'time', 'tinea', 'tinnitus', 'tissu',\n",
              "       'tissues', 'toe', 'tone', 'tonsil', 'tonsilitis', 'tonsillectomi',\n",
              "       'toothach', 'toothache', 'topic', 'trace', 'tract', 'transmit',\n",
              "       'transplant', 'trauma', 'traumat', 'travel', 'treat', 'treatment',\n",
              "       'treatsâ', 'treatâ', 'tremor', 'triglycerid', 'tubercular', 'type',\n",
              "       'ulcer', 'unabl', 'unbalanc', 'uncompl', 'uneven', 'unstabl',\n",
              "       'unusu', 'unwant', 'upper', 'uptak', 'urate', 'uretericâ', 'uric',\n",
              "       'urinaryâ', 'use', 'uses', 'usual', 'uveiti', 'vaccin', 'vagin',\n",
              "       'variant', 'varieti', 'ventricular', 'verruca', 'versicolor',\n",
              "       'vertigo', 'vessel', 'viral', 'viru', 'virus', 'vitamin',\n",
              "       'vitamins', 'volume', 'vomit', 'vulgari', 'vulgarisâ', 'wall',\n",
              "       'wart', 'wash', 'weak', 'weaken', 'weight', 'wet', 'whichâ',\n",
              "       'whilst', 'white', 'widen', 'withdrawn', 'womb', 'women', 'work',\n",
              "       'worsen', 'wound', 'wrinkl', 'wrinkles', 'year', 'younger', 'zinc',\n",
              "       'œpancreat'], dtype=object)"
            ]
          },
          "metadata": {},
          "execution_count": 67
        }
      ]
    },
    {
      "cell_type": "code",
      "source": [
        "from sklearn.metrics.pairwise import cosine_similarity"
      ],
      "metadata": {
        "execution": {
          "iopub.status.busy": "2022-05-26T15:31:06.363737Z",
          "iopub.execute_input": "2022-05-26T15:31:06.364175Z",
          "iopub.status.idle": "2022-05-26T15:31:06.368475Z",
          "shell.execute_reply.started": "2022-05-26T15:31:06.364142Z",
          "shell.execute_reply": "2022-05-26T15:31:06.367582Z"
        },
        "trusted": true,
        "id": "Vda5AgZV4JWm"
      },
      "execution_count": 68,
      "outputs": []
    },
    {
      "cell_type": "code",
      "source": [
        "cosine_similarity(vectors)"
      ],
      "metadata": {
        "execution": {
          "iopub.status.busy": "2022-05-26T15:31:12.307555Z",
          "iopub.execute_input": "2022-05-26T15:31:12.307965Z",
          "iopub.status.idle": "2022-05-26T15:31:13.947035Z",
          "shell.execute_reply.started": "2022-05-26T15:31:12.307931Z",
          "shell.execute_reply": "2022-05-26T15:31:13.946057Z"
        },
        "trusted": true,
        "colab": {
          "base_uri": "https://localhost:8080/"
        },
        "id": "x0tu8KmC4JWm",
        "outputId": "f390995f-5883-4a39-9070-eededae2eefd"
      },
      "execution_count": 69,
      "outputs": [
        {
          "output_type": "execute_result",
          "data": {
            "text/plain": [
              "array([[1.        , 0.25197632, 0.43643578, ..., 0.        , 0.        ,\n",
              "        0.        ],\n",
              "       [0.25197632, 1.        , 0.25660012, ..., 0.19245009, 0.1490712 ,\n",
              "        0.0860663 ],\n",
              "       [0.43643578, 0.25660012, 1.        , ..., 0.11111111, 0.0860663 ,\n",
              "        0.0993808 ],\n",
              "       ...,\n",
              "       [0.        , 0.19245009, 0.11111111, ..., 1.        , 0.77459667,\n",
              "        0.2981424 ],\n",
              "       [0.        , 0.1490712 , 0.0860663 , ..., 0.77459667, 1.        ,\n",
              "        0.34641016],\n",
              "       [0.        , 0.0860663 , 0.0993808 , ..., 0.2981424 , 0.34641016,\n",
              "        1.        ]])"
            ]
          },
          "metadata": {},
          "execution_count": 69
        }
      ]
    },
    {
      "cell_type": "code",
      "source": [
        "similarity = cosine_similarity(vectors)"
      ],
      "metadata": {
        "execution": {
          "iopub.status.busy": "2022-05-26T15:31:20.837383Z",
          "iopub.execute_input": "2022-05-26T15:31:20.837817Z",
          "iopub.status.idle": "2022-05-26T15:31:22.665373Z",
          "shell.execute_reply.started": "2022-05-26T15:31:20.837784Z",
          "shell.execute_reply": "2022-05-26T15:31:22.663586Z"
        },
        "trusted": true,
        "id": "C1wX5WFJ4JWm"
      },
      "execution_count": 70,
      "outputs": []
    },
    {
      "cell_type": "code",
      "source": [
        "similarity[1]"
      ],
      "metadata": {
        "execution": {
          "iopub.status.busy": "2022-05-26T15:31:25.761176Z",
          "iopub.execute_input": "2022-05-26T15:31:25.762261Z",
          "iopub.status.idle": "2022-05-26T15:31:25.771667Z",
          "shell.execute_reply.started": "2022-05-26T15:31:25.762222Z",
          "shell.execute_reply": "2022-05-26T15:31:25.770795Z"
        },
        "trusted": true,
        "colab": {
          "base_uri": "https://localhost:8080/"
        },
        "id": "lQX75gXa4JWm",
        "outputId": "a0398318-2e0c-4b3f-9803-b4717ddaeebe"
      },
      "execution_count": 71,
      "outputs": [
        {
          "output_type": "execute_result",
          "data": {
            "text/plain": [
              "array([0.25197632, 1.        , 0.25660012, ..., 0.19245009, 0.1490712 ,\n",
              "       0.0860663 ])"
            ]
          },
          "metadata": {},
          "execution_count": 71
        }
      ]
    },
    {
      "cell_type": "code",
      "source": [
        "def recommend(medicine):\n",
        "    medicine_index = new_df[new_df['Drug_Name'] == medicine].index[0]\n",
        "    distances = similarity[medicine_index]\n",
        "    medicines_list = sorted(list(enumerate(distances)),reverse=True,key=lambda x:x[1])[1:6]\n",
        "    \n",
        "    for i in medicines_list:\n",
        "        print(new_df.iloc[i[0]].Drug_Name)\n",
        "    "
      ],
      "metadata": {
        "execution": {
          "iopub.status.busy": "2022-05-26T15:31:40.158323Z",
          "iopub.execute_input": "2022-05-26T15:31:40.159068Z",
          "iopub.status.idle": "2022-05-26T15:31:40.166757Z",
          "shell.execute_reply.started": "2022-05-26T15:31:40.159020Z",
          "shell.execute_reply": "2022-05-26T15:31:40.165868Z"
        },
        "trusted": true,
        "id": "JRxtVP2F4JWm"
      },
      "execution_count": 72,
      "outputs": []
    },
    {
      "cell_type": "code",
      "source": [
        "recommend(\"Paracetamol 125mg Syrup 60mlParacetamol 500mg Tablet 10'S\")"
      ],
      "metadata": {
        "execution": {
          "iopub.status.busy": "2022-05-26T15:31:57.565934Z",
          "iopub.execute_input": "2022-05-26T15:31:57.566701Z",
          "iopub.status.idle": "2022-05-26T15:31:57.589837Z",
          "shell.execute_reply.started": "2022-05-26T15:31:57.566659Z",
          "shell.execute_reply": "2022-05-26T15:31:57.588991Z"
        },
        "trusted": true,
        "colab": {
          "base_uri": "https://localhost:8080/"
        },
        "id": "xo320bm_4JWm",
        "outputId": "e76d2d74-db8e-4bdb-f1b2-47d1558471cb"
      },
      "execution_count": 73,
      "outputs": [
        {
          "output_type": "stream",
          "name": "stdout",
          "text": [
            "Oxypamol D Tablet 10'S\n",
            "Pacimol MF Tablet 10'S\n",
            "Painil Plus 100/500mg Tablet 10'S\n",
            "Pamagin Plus Gel 30gm\n",
            "Paracetamol 125mg Syrup 60mlParacetamol 500mg Tablet 10'S\n"
          ]
        }
      ]
    },
    {
      "cell_type": "code",
      "source": [
        "import pickle"
      ],
      "metadata": {
        "execution": {
          "iopub.status.busy": "2022-05-26T15:32:35.446511Z",
          "iopub.execute_input": "2022-05-26T15:32:35.447060Z",
          "iopub.status.idle": "2022-05-26T15:32:35.451544Z",
          "shell.execute_reply.started": "2022-05-26T15:32:35.447016Z",
          "shell.execute_reply": "2022-05-26T15:32:35.450612Z"
        },
        "trusted": true,
        "id": "WuXV79Cy4JWm"
      },
      "execution_count": 74,
      "outputs": []
    },
    {
      "cell_type": "code",
      "source": [
        "pickle.dump(new_df.to_dict(),open('medicine_dict.pkl','wb'))\n",
        "pickle.dump(similarity,open('similarity.pkl','wb'))"
      ],
      "metadata": {
        "execution": {
          "iopub.status.busy": "2022-05-26T15:32:53.661648Z",
          "iopub.execute_input": "2022-05-26T15:32:53.662097Z",
          "iopub.status.idle": "2022-05-26T15:32:56.474199Z",
          "shell.execute_reply.started": "2022-05-26T15:32:53.662065Z",
          "shell.execute_reply": "2022-05-26T15:32:56.473238Z"
        },
        "trusted": true,
        "id": "IGyAQPM04JWm"
      },
      "execution_count": 75,
      "outputs": []
    }
  ]
}